{
 "cells": [
  {
   "cell_type": "code",
   "execution_count": 25,
   "id": "69ed8a20-b060-46fb-8a1f-908f15f5ffda",
   "metadata": {},
   "outputs": [],
   "source": [
    "import pandas as pd\n",
    "import numpy as np\n",
    "from sklearn.model_selection import train_test_split, cross_val_score\n",
    "from sklearn.tree import DecisionTreeRegressor\n",
    "from sklearn.metrics import accuracy_score, classification_report, confusion_matrix"
   ]
  },
  {
   "cell_type": "markdown",
   "id": "4d2bdb51-9cc9-4600-831c-89959024eae5",
   "metadata": {},
   "source": [
    "import library yang diperlukan\n",
    "\n",
    "- pandas: Untuk membaca dan memanipulasi data.\n",
    "- sklearn.model_selection: Untuk membagi dataset dan melakukan validasi silang.\n",
    "- sklearn.tree: Untuk membangun dan melatih model pohon keputusan.\n",
    "- sklearn.metrics: Untuk mengevaluasi performa model."
   ]
  },
  {
   "cell_type": "code",
   "execution_count": 2,
   "id": "2d6e0231-f9aa-468b-bd10-79e8ebc65921",
   "metadata": {},
   "outputs": [],
   "source": [
    "data = pd.read_csv('Real_Estate_DataSet.csv')"
   ]
  },
  {
   "cell_type": "markdown",
   "id": "3e21e988-030c-48ef-9792-1efc9f93c0d7",
   "metadata": {},
   "source": [
    "Baris ini membaca dataset Real_Estate_DataSet.csv dan memuatnya ke dalam DataFrame pandas yang disebut data."
   ]
  },
  {
   "cell_type": "code",
   "execution_count": 3,
   "id": "27f454e2-28e1-4f72-a260-ca5e1fc51c21",
   "metadata": {},
   "outputs": [
    {
     "name": "stdout",
     "output_type": "stream",
     "text": [
      "      CRIM    ZN  INDUS  CHAS    NOX     RM   AGE     DIS  RAD  TAX  PTRATIO  \\\n",
      "0  0.00632  18.0   2.31     0  0.538  6.575  65.2  4.0900    1  296     15.3   \n",
      "1  0.02731   0.0   7.07     0  0.469  6.421  78.9  4.9671    2  242     17.8   \n",
      "2  0.02729   0.0   7.07     0  0.469  7.185  61.1  4.9671    2  242     17.8   \n",
      "3  0.03237   0.0   2.18     0  0.458  6.998  45.8  6.0622    3  222     18.7   \n",
      "4  0.06905   0.0   2.18     0  0.458  7.147  54.2  6.0622    3  222     18.7   \n",
      "\n",
      "        B  LSTAT  MEDV  \n",
      "0  396.90   4.98  24.0  \n",
      "1  396.90   9.14  21.6  \n",
      "2  392.83   4.03  34.7  \n",
      "3  394.63   2.94  33.4  \n",
      "4  396.90   5.33  36.2  \n"
     ]
    }
   ],
   "source": [
    "print(data.head())"
   ]
  },
  {
   "cell_type": "markdown",
   "id": "2075b15f-d902-41f4-b1ef-c38eb7cd77e8",
   "metadata": {},
   "source": [
    "Fungsi head() menampilkan lima baris pertama dari DataFrame untuk memberikan gambaran awal tentang data yang dimuat."
   ]
  },
  {
   "cell_type": "code",
   "execution_count": 4,
   "id": "16742071-ead2-415e-a89c-b5d4be69e3ce",
   "metadata": {},
   "outputs": [
    {
     "name": "stdout",
     "output_type": "stream",
     "text": [
      "<class 'pandas.core.frame.DataFrame'>\n",
      "RangeIndex: 511 entries, 0 to 510\n",
      "Data columns (total 14 columns):\n",
      " #   Column   Non-Null Count  Dtype  \n",
      "---  ------   --------------  -----  \n",
      " 0   CRIM     511 non-null    float64\n",
      " 1   ZN       511 non-null    float64\n",
      " 2   INDUS    511 non-null    float64\n",
      " 3   CHAS     511 non-null    int64  \n",
      " 4   NOX      511 non-null    float64\n",
      " 5   RM       506 non-null    float64\n",
      " 6   AGE      511 non-null    float64\n",
      " 7   DIS      511 non-null    float64\n",
      " 8   RAD      511 non-null    int64  \n",
      " 9   TAX      511 non-null    int64  \n",
      " 10  PTRATIO  511 non-null    float64\n",
      " 11  B        511 non-null    float64\n",
      " 12  LSTAT    511 non-null    float64\n",
      " 13  MEDV     511 non-null    float64\n",
      "dtypes: float64(11), int64(3)\n",
      "memory usage: 56.0 KB\n",
      "None\n"
     ]
    }
   ],
   "source": [
    "print(data.info())"
   ]
  },
  {
   "cell_type": "markdown",
   "id": "6649da12-ebab-49cf-989c-39eefe562d6d",
   "metadata": {},
   "source": [
    "Fungsi info() memberikan informasi ringkas tentang DataFrame, termasuk jumlah entri, tipe data dari masing-masing kolom, dan apakah ada nilai yang hilang."
   ]
  },
  {
   "cell_type": "code",
   "execution_count": 5,
   "id": "091232ca-9d40-4dcd-92a1-5ee56f7de671",
   "metadata": {},
   "outputs": [
    {
     "name": "stdout",
     "output_type": "stream",
     "text": [
      "CRIM       0\n",
      "ZN         0\n",
      "INDUS      0\n",
      "CHAS       0\n",
      "NOX        0\n",
      "RM         5\n",
      "AGE        0\n",
      "DIS        0\n",
      "RAD        0\n",
      "TAX        0\n",
      "PTRATIO    0\n",
      "B          0\n",
      "LSTAT      0\n",
      "MEDV       0\n",
      "dtype: int64\n"
     ]
    }
   ],
   "source": [
    "print(data.isnull().sum())"
   ]
  },
  {
   "cell_type": "markdown",
   "id": "f82ed78d-484a-4450-828c-4989be17df28",
   "metadata": {},
   "source": [
    "Fungsi isnull().sum() digunakan untuk menghitung jumlah nilai hilang (null) di setiap kolom dalam DataFrame. Ini membantu mengidentifikasi kolom mana yang perlu ditangani karena adanya nilai hilang."
   ]
  },
  {
   "cell_type": "code",
   "execution_count": 6,
   "id": "0fcb009f-122b-4139-984c-4a4643fd2e58",
   "metadata": {},
   "outputs": [],
   "source": [
    "data.drop_duplicates(inplace=True)"
   ]
  },
  {
   "cell_type": "markdown",
   "id": "cacea22b-020a-4294-9988-d49810ecf790",
   "metadata": {},
   "source": [
    "Fungsi drop_duplicates() menghapus baris duplikat dari DataFrame untuk memastikan bahwa setiap baris data adalah unik. Parameter inplace=True memastikan bahwa perubahan dilakukan langsung pada DataFrame data tanpa perlu membuat salinan baru."
   ]
  },
  {
   "cell_type": "code",
   "execution_count": 7,
   "id": "98cfe31a-8151-4465-93c2-a4378571c3c3",
   "metadata": {},
   "outputs": [
    {
     "name": "stdout",
     "output_type": "stream",
     "text": [
      "        CRIM    ZN  INDUS  CHAS    NOX     RM   AGE     DIS  RAD  TAX  \\\n",
      "0    0.00632  18.0   2.31     0  0.538  6.575  65.2  4.0900    1  296   \n",
      "1    0.02731   0.0   7.07     0  0.469  6.421  78.9  4.9671    2  242   \n",
      "2    0.02729   0.0   7.07     0  0.469  7.185  61.1  4.9671    2  242   \n",
      "3    0.03237   0.0   2.18     0  0.458  6.998  45.8  6.0622    3  222   \n",
      "4    0.06905   0.0   2.18     0  0.458  7.147  54.2  6.0622    3  222   \n",
      "..       ...   ...    ...   ...    ...    ...   ...     ...  ...  ...   \n",
      "506  0.98765   0.0  12.50     0  0.561  6.980  89.0  2.0980    3  320   \n",
      "507  0.23456   0.0  12.50     0  0.561  6.980  76.0  2.6540    3  320   \n",
      "508  0.44433   0.0  12.50     0  0.561  6.123  98.0  2.9870    3  320   \n",
      "509  0.77763   0.0  12.70     0  0.561  6.222  34.0  2.5430    3  329   \n",
      "510  0.65432   0.0  12.80     0  0.561  6.760  67.0  2.9870    3  345   \n",
      "\n",
      "     PTRATIO       B  LSTAT  MEDV  \n",
      "0       15.3  396.90   4.98  24.0  \n",
      "1       17.8  396.90   9.14  21.6  \n",
      "2       17.8  392.83   4.03  34.7  \n",
      "3       18.7  394.63   2.94  33.4  \n",
      "4       18.7  396.90   5.33  36.2  \n",
      "..       ...     ...    ...   ...  \n",
      "506     23.0  396.00  12.00  12.0  \n",
      "507     23.0  343.00  25.00  32.0  \n",
      "508     23.0  343.00  21.00  54.0  \n",
      "509     23.0  343.00  76.00  67.0  \n",
      "510     23.0  321.00  45.00  24.0  \n",
      "\n",
      "[511 rows x 14 columns]\n"
     ]
    }
   ],
   "source": [
    "print (data)"
   ]
  },
  {
   "cell_type": "markdown",
   "id": "75a4cf69-594a-47e4-838d-2641f38e067b",
   "metadata": {},
   "source": [
    "Fungsi print(data) digunakan untuk menampilkan seluruh DataFrame data. Ini akan mencetak seluruh konten dari DataFrame ke konsol. Pada dataset besar, ini mungkin tidak praktis karena bisa jadi terlalu banyak data untuk ditampilkan sekaligus."
   ]
  },
  {
   "cell_type": "code",
   "execution_count": 11,
   "id": "ae249aa4-1fa3-49d3-9edf-f9695218cb75",
   "metadata": {},
   "outputs": [
    {
     "name": "stdout",
     "output_type": "stream",
     "text": [
      "       CRIM    ZN  INDUS  CHAS    NOX     RM    AGE     DIS  RAD  TAX  \\\n",
      "0   0.00632  18.0   2.31     0  0.538  6.575   65.2  4.0900    1  296   \n",
      "1   0.02731   0.0   7.07     0  0.469  6.421   78.9  4.9671    2  242   \n",
      "2   0.02729   0.0   7.07     0  0.469  7.185   61.1  4.9671    2  242   \n",
      "3   0.03237   0.0   2.18     0  0.458  6.998   45.8  6.0622    3  222   \n",
      "4   0.06905   0.0   2.18     0  0.458  7.147   54.2  6.0622    3  222   \n",
      "5   0.02985   0.0   2.18     0  0.458  6.430   58.7  6.0622    3  222   \n",
      "6   0.08829  12.5   7.87     0  0.524  6.012   66.6  5.5605    5  311   \n",
      "7   0.14455  12.5   7.87     0  0.524  6.172   96.1  5.9505    5  311   \n",
      "8   0.21124  12.5   7.87     0  0.524  5.631  100.0  6.0821    5  311   \n",
      "9   0.17004  12.5   7.87     0  0.524  6.004   85.9  6.5921    5  311   \n",
      "10  0.22489  12.5   7.87     0  0.524    NaN   94.3  6.3467    5  311   \n",
      "11  0.11747  12.5   7.87     0  0.524  6.009   82.9  6.2267    5  311   \n",
      "12  0.09378  12.5   7.87     0  0.524  5.889   39.0  5.4509    5  311   \n",
      "\n",
      "    PTRATIO       B  LSTAT  MEDV  \n",
      "0      15.3  396.90   4.98  24.0  \n",
      "1      17.8  396.90   9.14  21.6  \n",
      "2      17.8  392.83   4.03  34.7  \n",
      "3      18.7  394.63   2.94  33.4  \n",
      "4      18.7  396.90   5.33  36.2  \n",
      "5      18.7  394.12   5.21  28.7  \n",
      "6      15.2  395.60  12.43  22.9  \n",
      "7      15.2  396.90  19.15  27.1  \n",
      "8      15.2  386.63  29.93  16.5  \n",
      "9      15.2  386.71  17.10  18.9  \n",
      "10     15.2  392.52  20.45  15.0  \n",
      "11     15.2  396.90  13.27  18.9  \n",
      "12     15.2  390.50  15.71  21.7  \n"
     ]
    }
   ],
   "source": [
    "print(data.head(13))"
   ]
  },
  {
   "cell_type": "markdown",
   "id": "9d11f521-13bb-4b43-8fd1-be91b798d0a1",
   "metadata": {},
   "source": [
    "Fungsi head(13) digunakan untuk menampilkan 13 baris pertama dari DataFrame. Ini membantu untuk melihat data awal secara lebih detail, yang bisa bermanfaat untuk memahami struktur dan isi data."
   ]
  },
  {
   "cell_type": "code",
   "execution_count": 12,
   "id": "117b90d0-a0cc-44ec-8f3f-11aa8512b04d",
   "metadata": {},
   "outputs": [],
   "source": [
    "data.dropna(inplace=True)"
   ]
  },
  {
   "cell_type": "markdown",
   "id": "52a327be-d554-4b71-a65c-a83e9c7c1bc2",
   "metadata": {},
   "source": [
    "Fungsi dropna(inplace=True) digunakan untuk menghapus semua baris yang mengandung nilai hilang dari DataFrame. Parameter inplace=True memastikan bahwa penghapusan dilakukan langsung pada DataFrame data tanpa membuat salinan baru."
   ]
  },
  {
   "cell_type": "code",
   "execution_count": 13,
   "id": "2a2ade05-41d5-467a-8640-d1b4ffd38588",
   "metadata": {},
   "outputs": [
    {
     "name": "stdout",
     "output_type": "stream",
     "text": [
      "       CRIM    ZN  INDUS  CHAS    NOX     RM    AGE     DIS  RAD  TAX  \\\n",
      "0   0.00632  18.0   2.31     0  0.538  6.575   65.2  4.0900    1  296   \n",
      "1   0.02731   0.0   7.07     0  0.469  6.421   78.9  4.9671    2  242   \n",
      "2   0.02729   0.0   7.07     0  0.469  7.185   61.1  4.9671    2  242   \n",
      "3   0.03237   0.0   2.18     0  0.458  6.998   45.8  6.0622    3  222   \n",
      "4   0.06905   0.0   2.18     0  0.458  7.147   54.2  6.0622    3  222   \n",
      "5   0.02985   0.0   2.18     0  0.458  6.430   58.7  6.0622    3  222   \n",
      "6   0.08829  12.5   7.87     0  0.524  6.012   66.6  5.5605    5  311   \n",
      "7   0.14455  12.5   7.87     0  0.524  6.172   96.1  5.9505    5  311   \n",
      "8   0.21124  12.5   7.87     0  0.524  5.631  100.0  6.0821    5  311   \n",
      "9   0.17004  12.5   7.87     0  0.524  6.004   85.9  6.5921    5  311   \n",
      "11  0.11747  12.5   7.87     0  0.524  6.009   82.9  6.2267    5  311   \n",
      "12  0.09378  12.5   7.87     0  0.524  5.889   39.0  5.4509    5  311   \n",
      "13  0.62976   0.0   8.14     0  0.538  5.949   61.8  4.7075    4  307   \n",
      "\n",
      "    PTRATIO       B  LSTAT  MEDV  \n",
      "0      15.3  396.90   4.98  24.0  \n",
      "1      17.8  396.90   9.14  21.6  \n",
      "2      17.8  392.83   4.03  34.7  \n",
      "3      18.7  394.63   2.94  33.4  \n",
      "4      18.7  396.90   5.33  36.2  \n",
      "5      18.7  394.12   5.21  28.7  \n",
      "6      15.2  395.60  12.43  22.9  \n",
      "7      15.2  396.90  19.15  27.1  \n",
      "8      15.2  386.63  29.93  16.5  \n",
      "9      15.2  386.71  17.10  18.9  \n",
      "11     15.2  396.90  13.27  18.9  \n",
      "12     15.2  390.50  15.71  21.7  \n",
      "13     21.0  396.90   8.26  20.4  \n"
     ]
    }
   ],
   "source": [
    "print(data.head(13))"
   ]
  },
  {
   "cell_type": "markdown",
   "id": "e8281184-dcff-4719-9131-f1f9121f9cce",
   "metadata": {},
   "source": [
    "diatas menampilkan kembali 13 baris pertama dari DataFrame setelah beberapa data null telah dihapus"
   ]
  },
  {
   "cell_type": "code",
   "execution_count": 14,
   "id": "3edad34f-4e3b-4a31-b030-a75618379d19",
   "metadata": {},
   "outputs": [
    {
     "name": "stdout",
     "output_type": "stream",
     "text": [
      "CRIM       0\n",
      "ZN         0\n",
      "INDUS      0\n",
      "CHAS       0\n",
      "NOX        0\n",
      "RM         0\n",
      "AGE        0\n",
      "DIS        0\n",
      "RAD        0\n",
      "TAX        0\n",
      "PTRATIO    0\n",
      "B          0\n",
      "LSTAT      0\n",
      "MEDV       0\n",
      "dtype: int64\n"
     ]
    }
   ],
   "source": [
    "print(data.isnull().sum())"
   ]
  },
  {
   "cell_type": "markdown",
   "id": "523ab6d5-fc9c-4f6d-95d5-7b022ba389c9",
   "metadata": {},
   "source": [
    "Fungsi diatas digunakan untuk menghitung kembali jumlah nilai hilang (null) di setiap kolom dalam DataFrame"
   ]
  },
  {
   "cell_type": "markdown",
   "id": "78d4d3cc-0155-404c-85f9-c4ace40351f1",
   "metadata": {},
   "source": [
    "- Memisahkan atribut dan target\n",
    "  \n",
    "  dengan cara pada variabel x menghapus kolom MEDV dan memindahkan ke variabel y"
   ]
  },
  {
   "cell_type": "code",
   "execution_count": 15,
   "id": "bc8d69b3-e583-4c0a-945b-d97a6774707c",
   "metadata": {},
   "outputs": [],
   "source": [
    "x = data.drop(columns=['MEDV'])\n",
    "y = data['MEDV']"
   ]
  },
  {
   "cell_type": "markdown",
   "id": "828ab02e-cccf-4d7f-9165-9b18b8c7871a",
   "metadata": {},
   "source": [
    "##### menampilkan variabel x"
   ]
  },
  {
   "cell_type": "code",
   "execution_count": 16,
   "id": "a79e5824-e1d9-45e6-a781-c3d83685521b",
   "metadata": {},
   "outputs": [
    {
     "name": "stdout",
     "output_type": "stream",
     "text": [
      "        CRIM    ZN  INDUS  CHAS    NOX     RM   AGE     DIS  RAD  TAX  \\\n",
      "0    0.00632  18.0   2.31     0  0.538  6.575  65.2  4.0900    1  296   \n",
      "1    0.02731   0.0   7.07     0  0.469  6.421  78.9  4.9671    2  242   \n",
      "2    0.02729   0.0   7.07     0  0.469  7.185  61.1  4.9671    2  242   \n",
      "3    0.03237   0.0   2.18     0  0.458  6.998  45.8  6.0622    3  222   \n",
      "4    0.06905   0.0   2.18     0  0.458  7.147  54.2  6.0622    3  222   \n",
      "..       ...   ...    ...   ...    ...    ...   ...     ...  ...  ...   \n",
      "506  0.98765   0.0  12.50     0  0.561  6.980  89.0  2.0980    3  320   \n",
      "507  0.23456   0.0  12.50     0  0.561  6.980  76.0  2.6540    3  320   \n",
      "508  0.44433   0.0  12.50     0  0.561  6.123  98.0  2.9870    3  320   \n",
      "509  0.77763   0.0  12.70     0  0.561  6.222  34.0  2.5430    3  329   \n",
      "510  0.65432   0.0  12.80     0  0.561  6.760  67.0  2.9870    3  345   \n",
      "\n",
      "     PTRATIO       B  LSTAT  \n",
      "0       15.3  396.90   4.98  \n",
      "1       17.8  396.90   9.14  \n",
      "2       17.8  392.83   4.03  \n",
      "3       18.7  394.63   2.94  \n",
      "4       18.7  396.90   5.33  \n",
      "..       ...     ...    ...  \n",
      "506     23.0  396.00  12.00  \n",
      "507     23.0  343.00  25.00  \n",
      "508     23.0  343.00  21.00  \n",
      "509     23.0  343.00  76.00  \n",
      "510     23.0  321.00  45.00  \n",
      "\n",
      "[506 rows x 13 columns]\n"
     ]
    }
   ],
   "source": [
    "print(x)"
   ]
  },
  {
   "cell_type": "markdown",
   "id": "65dc556d-d9dd-4553-98a3-ec92c424276f",
   "metadata": {},
   "source": [
    "##### menampilkan variabel y"
   ]
  },
  {
   "cell_type": "code",
   "execution_count": 17,
   "id": "6643b34e-903e-4724-8d88-0a9a5fe1ceb5",
   "metadata": {},
   "outputs": [
    {
     "name": "stdout",
     "output_type": "stream",
     "text": [
      "0      24.0\n",
      "1      21.6\n",
      "2      34.7\n",
      "3      33.4\n",
      "4      36.2\n",
      "       ... \n",
      "506    12.0\n",
      "507    32.0\n",
      "508    54.0\n",
      "509    67.0\n",
      "510    24.0\n",
      "Name: MEDV, Length: 506, dtype: float64\n"
     ]
    }
   ],
   "source": [
    "print(y)"
   ]
  },
  {
   "cell_type": "markdown",
   "id": "d74c297b-8c9e-487f-8e91-b9587854add4",
   "metadata": {},
   "source": [
    "##### Membagi data menjadi data training dan data testing (80% training, 20% testing)\n",
    "\n",
    "Dengan menggunakan 80% dari data untuk pelatihan, model memiliki cukup informasi untuk mempelajari pola yang ada dalam data. Semakin banyak data pelatihan, semakin baik model dapat belajar, asalkan tidak overfitting."
   ]
  },
  {
   "cell_type": "code",
   "execution_count": 20,
   "id": "f8f3f6e3-aba3-403a-ba1d-7459ef0693b0",
   "metadata": {},
   "outputs": [],
   "source": [
    "x_train, x_test, y_train, y_test = train_test_split(x, y, test_size=0.2, random_state=42)"
   ]
  },
  {
   "cell_type": "markdown",
   "id": "f35e3e84-d3a0-4bec-9281-7853e0f72f50",
   "metadata": {},
   "source": [
    "##### Membuat model Decision Tree"
   ]
  },
  {
   "cell_type": "code",
   "execution_count": 48,
   "id": "665e93d2-7f96-4313-aab9-fe62b748de0d",
   "metadata": {},
   "outputs": [],
   "source": [
    "data_model = DecisionTreeRegressor(random_state=42)"
   ]
  },
  {
   "cell_type": "markdown",
   "id": "ed454c1c-ded2-42bd-b581-6a47b6ac00d2",
   "metadata": {},
   "source": [
    "##### Melatih model dengan data training"
   ]
  },
  {
   "cell_type": "code",
   "execution_count": 49,
   "id": "7cb8feaf-1488-44cc-abcd-9245204b08ae",
   "metadata": {},
   "outputs": [
    {
     "data": {
      "text/html": [
       "<style>#sk-container-id-3 {\n",
       "  /* Definition of color scheme common for light and dark mode */\n",
       "  --sklearn-color-text: black;\n",
       "  --sklearn-color-line: gray;\n",
       "  /* Definition of color scheme for unfitted estimators */\n",
       "  --sklearn-color-unfitted-level-0: #fff5e6;\n",
       "  --sklearn-color-unfitted-level-1: #f6e4d2;\n",
       "  --sklearn-color-unfitted-level-2: #ffe0b3;\n",
       "  --sklearn-color-unfitted-level-3: chocolate;\n",
       "  /* Definition of color scheme for fitted estimators */\n",
       "  --sklearn-color-fitted-level-0: #f0f8ff;\n",
       "  --sklearn-color-fitted-level-1: #d4ebff;\n",
       "  --sklearn-color-fitted-level-2: #b3dbfd;\n",
       "  --sklearn-color-fitted-level-3: cornflowerblue;\n",
       "\n",
       "  /* Specific color for light theme */\n",
       "  --sklearn-color-text-on-default-background: var(--sg-text-color, var(--theme-code-foreground, var(--jp-content-font-color1, black)));\n",
       "  --sklearn-color-background: var(--sg-background-color, var(--theme-background, var(--jp-layout-color0, white)));\n",
       "  --sklearn-color-border-box: var(--sg-text-color, var(--theme-code-foreground, var(--jp-content-font-color1, black)));\n",
       "  --sklearn-color-icon: #696969;\n",
       "\n",
       "  @media (prefers-color-scheme: dark) {\n",
       "    /* Redefinition of color scheme for dark theme */\n",
       "    --sklearn-color-text-on-default-background: var(--sg-text-color, var(--theme-code-foreground, var(--jp-content-font-color1, white)));\n",
       "    --sklearn-color-background: var(--sg-background-color, var(--theme-background, var(--jp-layout-color0, #111)));\n",
       "    --sklearn-color-border-box: var(--sg-text-color, var(--theme-code-foreground, var(--jp-content-font-color1, white)));\n",
       "    --sklearn-color-icon: #878787;\n",
       "  }\n",
       "}\n",
       "\n",
       "#sk-container-id-3 {\n",
       "  color: var(--sklearn-color-text);\n",
       "}\n",
       "\n",
       "#sk-container-id-3 pre {\n",
       "  padding: 0;\n",
       "}\n",
       "\n",
       "#sk-container-id-3 input.sk-hidden--visually {\n",
       "  border: 0;\n",
       "  clip: rect(1px 1px 1px 1px);\n",
       "  clip: rect(1px, 1px, 1px, 1px);\n",
       "  height: 1px;\n",
       "  margin: -1px;\n",
       "  overflow: hidden;\n",
       "  padding: 0;\n",
       "  position: absolute;\n",
       "  width: 1px;\n",
       "}\n",
       "\n",
       "#sk-container-id-3 div.sk-dashed-wrapped {\n",
       "  border: 1px dashed var(--sklearn-color-line);\n",
       "  margin: 0 0.4em 0.5em 0.4em;\n",
       "  box-sizing: border-box;\n",
       "  padding-bottom: 0.4em;\n",
       "  background-color: var(--sklearn-color-background);\n",
       "}\n",
       "\n",
       "#sk-container-id-3 div.sk-container {\n",
       "  /* jupyter's `normalize.less` sets `[hidden] { display: none; }`\n",
       "     but bootstrap.min.css set `[hidden] { display: none !important; }`\n",
       "     so we also need the `!important` here to be able to override the\n",
       "     default hidden behavior on the sphinx rendered scikit-learn.org.\n",
       "     See: https://github.com/scikit-learn/scikit-learn/issues/21755 */\n",
       "  display: inline-block !important;\n",
       "  position: relative;\n",
       "}\n",
       "\n",
       "#sk-container-id-3 div.sk-text-repr-fallback {\n",
       "  display: none;\n",
       "}\n",
       "\n",
       "div.sk-parallel-item,\n",
       "div.sk-serial,\n",
       "div.sk-item {\n",
       "  /* draw centered vertical line to link estimators */\n",
       "  background-image: linear-gradient(var(--sklearn-color-text-on-default-background), var(--sklearn-color-text-on-default-background));\n",
       "  background-size: 2px 100%;\n",
       "  background-repeat: no-repeat;\n",
       "  background-position: center center;\n",
       "}\n",
       "\n",
       "/* Parallel-specific style estimator block */\n",
       "\n",
       "#sk-container-id-3 div.sk-parallel-item::after {\n",
       "  content: \"\";\n",
       "  width: 100%;\n",
       "  border-bottom: 2px solid var(--sklearn-color-text-on-default-background);\n",
       "  flex-grow: 1;\n",
       "}\n",
       "\n",
       "#sk-container-id-3 div.sk-parallel {\n",
       "  display: flex;\n",
       "  align-items: stretch;\n",
       "  justify-content: center;\n",
       "  background-color: var(--sklearn-color-background);\n",
       "  position: relative;\n",
       "}\n",
       "\n",
       "#sk-container-id-3 div.sk-parallel-item {\n",
       "  display: flex;\n",
       "  flex-direction: column;\n",
       "}\n",
       "\n",
       "#sk-container-id-3 div.sk-parallel-item:first-child::after {\n",
       "  align-self: flex-end;\n",
       "  width: 50%;\n",
       "}\n",
       "\n",
       "#sk-container-id-3 div.sk-parallel-item:last-child::after {\n",
       "  align-self: flex-start;\n",
       "  width: 50%;\n",
       "}\n",
       "\n",
       "#sk-container-id-3 div.sk-parallel-item:only-child::after {\n",
       "  width: 0;\n",
       "}\n",
       "\n",
       "/* Serial-specific style estimator block */\n",
       "\n",
       "#sk-container-id-3 div.sk-serial {\n",
       "  display: flex;\n",
       "  flex-direction: column;\n",
       "  align-items: center;\n",
       "  background-color: var(--sklearn-color-background);\n",
       "  padding-right: 1em;\n",
       "  padding-left: 1em;\n",
       "}\n",
       "\n",
       "\n",
       "/* Toggleable style: style used for estimator/Pipeline/ColumnTransformer box that is\n",
       "clickable and can be expanded/collapsed.\n",
       "- Pipeline and ColumnTransformer use this feature and define the default style\n",
       "- Estimators will overwrite some part of the style using the `sk-estimator` class\n",
       "*/\n",
       "\n",
       "/* Pipeline and ColumnTransformer style (default) */\n",
       "\n",
       "#sk-container-id-3 div.sk-toggleable {\n",
       "  /* Default theme specific background. It is overwritten whether we have a\n",
       "  specific estimator or a Pipeline/ColumnTransformer */\n",
       "  background-color: var(--sklearn-color-background);\n",
       "}\n",
       "\n",
       "/* Toggleable label */\n",
       "#sk-container-id-3 label.sk-toggleable__label {\n",
       "  cursor: pointer;\n",
       "  display: block;\n",
       "  width: 100%;\n",
       "  margin-bottom: 0;\n",
       "  padding: 0.5em;\n",
       "  box-sizing: border-box;\n",
       "  text-align: center;\n",
       "}\n",
       "\n",
       "#sk-container-id-3 label.sk-toggleable__label-arrow:before {\n",
       "  /* Arrow on the left of the label */\n",
       "  content: \"▸\";\n",
       "  float: left;\n",
       "  margin-right: 0.25em;\n",
       "  color: var(--sklearn-color-icon);\n",
       "}\n",
       "\n",
       "#sk-container-id-3 label.sk-toggleable__label-arrow:hover:before {\n",
       "  color: var(--sklearn-color-text);\n",
       "}\n",
       "\n",
       "/* Toggleable content - dropdown */\n",
       "\n",
       "#sk-container-id-3 div.sk-toggleable__content {\n",
       "  max-height: 0;\n",
       "  max-width: 0;\n",
       "  overflow: hidden;\n",
       "  text-align: left;\n",
       "  /* unfitted */\n",
       "  background-color: var(--sklearn-color-unfitted-level-0);\n",
       "}\n",
       "\n",
       "#sk-container-id-3 div.sk-toggleable__content.fitted {\n",
       "  /* fitted */\n",
       "  background-color: var(--sklearn-color-fitted-level-0);\n",
       "}\n",
       "\n",
       "#sk-container-id-3 div.sk-toggleable__content pre {\n",
       "  margin: 0.2em;\n",
       "  border-radius: 0.25em;\n",
       "  color: var(--sklearn-color-text);\n",
       "  /* unfitted */\n",
       "  background-color: var(--sklearn-color-unfitted-level-0);\n",
       "}\n",
       "\n",
       "#sk-container-id-3 div.sk-toggleable__content.fitted pre {\n",
       "  /* unfitted */\n",
       "  background-color: var(--sklearn-color-fitted-level-0);\n",
       "}\n",
       "\n",
       "#sk-container-id-3 input.sk-toggleable__control:checked~div.sk-toggleable__content {\n",
       "  /* Expand drop-down */\n",
       "  max-height: 200px;\n",
       "  max-width: 100%;\n",
       "  overflow: auto;\n",
       "}\n",
       "\n",
       "#sk-container-id-3 input.sk-toggleable__control:checked~label.sk-toggleable__label-arrow:before {\n",
       "  content: \"▾\";\n",
       "}\n",
       "\n",
       "/* Pipeline/ColumnTransformer-specific style */\n",
       "\n",
       "#sk-container-id-3 div.sk-label input.sk-toggleable__control:checked~label.sk-toggleable__label {\n",
       "  color: var(--sklearn-color-text);\n",
       "  background-color: var(--sklearn-color-unfitted-level-2);\n",
       "}\n",
       "\n",
       "#sk-container-id-3 div.sk-label.fitted input.sk-toggleable__control:checked~label.sk-toggleable__label {\n",
       "  background-color: var(--sklearn-color-fitted-level-2);\n",
       "}\n",
       "\n",
       "/* Estimator-specific style */\n",
       "\n",
       "/* Colorize estimator box */\n",
       "#sk-container-id-3 div.sk-estimator input.sk-toggleable__control:checked~label.sk-toggleable__label {\n",
       "  /* unfitted */\n",
       "  background-color: var(--sklearn-color-unfitted-level-2);\n",
       "}\n",
       "\n",
       "#sk-container-id-3 div.sk-estimator.fitted input.sk-toggleable__control:checked~label.sk-toggleable__label {\n",
       "  /* fitted */\n",
       "  background-color: var(--sklearn-color-fitted-level-2);\n",
       "}\n",
       "\n",
       "#sk-container-id-3 div.sk-label label.sk-toggleable__label,\n",
       "#sk-container-id-3 div.sk-label label {\n",
       "  /* The background is the default theme color */\n",
       "  color: var(--sklearn-color-text-on-default-background);\n",
       "}\n",
       "\n",
       "/* On hover, darken the color of the background */\n",
       "#sk-container-id-3 div.sk-label:hover label.sk-toggleable__label {\n",
       "  color: var(--sklearn-color-text);\n",
       "  background-color: var(--sklearn-color-unfitted-level-2);\n",
       "}\n",
       "\n",
       "/* Label box, darken color on hover, fitted */\n",
       "#sk-container-id-3 div.sk-label.fitted:hover label.sk-toggleable__label.fitted {\n",
       "  color: var(--sklearn-color-text);\n",
       "  background-color: var(--sklearn-color-fitted-level-2);\n",
       "}\n",
       "\n",
       "/* Estimator label */\n",
       "\n",
       "#sk-container-id-3 div.sk-label label {\n",
       "  font-family: monospace;\n",
       "  font-weight: bold;\n",
       "  display: inline-block;\n",
       "  line-height: 1.2em;\n",
       "}\n",
       "\n",
       "#sk-container-id-3 div.sk-label-container {\n",
       "  text-align: center;\n",
       "}\n",
       "\n",
       "/* Estimator-specific */\n",
       "#sk-container-id-3 div.sk-estimator {\n",
       "  font-family: monospace;\n",
       "  border: 1px dotted var(--sklearn-color-border-box);\n",
       "  border-radius: 0.25em;\n",
       "  box-sizing: border-box;\n",
       "  margin-bottom: 0.5em;\n",
       "  /* unfitted */\n",
       "  background-color: var(--sklearn-color-unfitted-level-0);\n",
       "}\n",
       "\n",
       "#sk-container-id-3 div.sk-estimator.fitted {\n",
       "  /* fitted */\n",
       "  background-color: var(--sklearn-color-fitted-level-0);\n",
       "}\n",
       "\n",
       "/* on hover */\n",
       "#sk-container-id-3 div.sk-estimator:hover {\n",
       "  /* unfitted */\n",
       "  background-color: var(--sklearn-color-unfitted-level-2);\n",
       "}\n",
       "\n",
       "#sk-container-id-3 div.sk-estimator.fitted:hover {\n",
       "  /* fitted */\n",
       "  background-color: var(--sklearn-color-fitted-level-2);\n",
       "}\n",
       "\n",
       "/* Specification for estimator info (e.g. \"i\" and \"?\") */\n",
       "\n",
       "/* Common style for \"i\" and \"?\" */\n",
       "\n",
       ".sk-estimator-doc-link,\n",
       "a:link.sk-estimator-doc-link,\n",
       "a:visited.sk-estimator-doc-link {\n",
       "  float: right;\n",
       "  font-size: smaller;\n",
       "  line-height: 1em;\n",
       "  font-family: monospace;\n",
       "  background-color: var(--sklearn-color-background);\n",
       "  border-radius: 1em;\n",
       "  height: 1em;\n",
       "  width: 1em;\n",
       "  text-decoration: none !important;\n",
       "  margin-left: 1ex;\n",
       "  /* unfitted */\n",
       "  border: var(--sklearn-color-unfitted-level-1) 1pt solid;\n",
       "  color: var(--sklearn-color-unfitted-level-1);\n",
       "}\n",
       "\n",
       ".sk-estimator-doc-link.fitted,\n",
       "a:link.sk-estimator-doc-link.fitted,\n",
       "a:visited.sk-estimator-doc-link.fitted {\n",
       "  /* fitted */\n",
       "  border: var(--sklearn-color-fitted-level-1) 1pt solid;\n",
       "  color: var(--sklearn-color-fitted-level-1);\n",
       "}\n",
       "\n",
       "/* On hover */\n",
       "div.sk-estimator:hover .sk-estimator-doc-link:hover,\n",
       ".sk-estimator-doc-link:hover,\n",
       "div.sk-label-container:hover .sk-estimator-doc-link:hover,\n",
       ".sk-estimator-doc-link:hover {\n",
       "  /* unfitted */\n",
       "  background-color: var(--sklearn-color-unfitted-level-3);\n",
       "  color: var(--sklearn-color-background);\n",
       "  text-decoration: none;\n",
       "}\n",
       "\n",
       "div.sk-estimator.fitted:hover .sk-estimator-doc-link.fitted:hover,\n",
       ".sk-estimator-doc-link.fitted:hover,\n",
       "div.sk-label-container:hover .sk-estimator-doc-link.fitted:hover,\n",
       ".sk-estimator-doc-link.fitted:hover {\n",
       "  /* fitted */\n",
       "  background-color: var(--sklearn-color-fitted-level-3);\n",
       "  color: var(--sklearn-color-background);\n",
       "  text-decoration: none;\n",
       "}\n",
       "\n",
       "/* Span, style for the box shown on hovering the info icon */\n",
       ".sk-estimator-doc-link span {\n",
       "  display: none;\n",
       "  z-index: 9999;\n",
       "  position: relative;\n",
       "  font-weight: normal;\n",
       "  right: .2ex;\n",
       "  padding: .5ex;\n",
       "  margin: .5ex;\n",
       "  width: min-content;\n",
       "  min-width: 20ex;\n",
       "  max-width: 50ex;\n",
       "  color: var(--sklearn-color-text);\n",
       "  box-shadow: 2pt 2pt 4pt #999;\n",
       "  /* unfitted */\n",
       "  background: var(--sklearn-color-unfitted-level-0);\n",
       "  border: .5pt solid var(--sklearn-color-unfitted-level-3);\n",
       "}\n",
       "\n",
       ".sk-estimator-doc-link.fitted span {\n",
       "  /* fitted */\n",
       "  background: var(--sklearn-color-fitted-level-0);\n",
       "  border: var(--sklearn-color-fitted-level-3);\n",
       "}\n",
       "\n",
       ".sk-estimator-doc-link:hover span {\n",
       "  display: block;\n",
       "}\n",
       "\n",
       "/* \"?\"-specific style due to the `<a>` HTML tag */\n",
       "\n",
       "#sk-container-id-3 a.estimator_doc_link {\n",
       "  float: right;\n",
       "  font-size: 1rem;\n",
       "  line-height: 1em;\n",
       "  font-family: monospace;\n",
       "  background-color: var(--sklearn-color-background);\n",
       "  border-radius: 1rem;\n",
       "  height: 1rem;\n",
       "  width: 1rem;\n",
       "  text-decoration: none;\n",
       "  /* unfitted */\n",
       "  color: var(--sklearn-color-unfitted-level-1);\n",
       "  border: var(--sklearn-color-unfitted-level-1) 1pt solid;\n",
       "}\n",
       "\n",
       "#sk-container-id-3 a.estimator_doc_link.fitted {\n",
       "  /* fitted */\n",
       "  border: var(--sklearn-color-fitted-level-1) 1pt solid;\n",
       "  color: var(--sklearn-color-fitted-level-1);\n",
       "}\n",
       "\n",
       "/* On hover */\n",
       "#sk-container-id-3 a.estimator_doc_link:hover {\n",
       "  /* unfitted */\n",
       "  background-color: var(--sklearn-color-unfitted-level-3);\n",
       "  color: var(--sklearn-color-background);\n",
       "  text-decoration: none;\n",
       "}\n",
       "\n",
       "#sk-container-id-3 a.estimator_doc_link.fitted:hover {\n",
       "  /* fitted */\n",
       "  background-color: var(--sklearn-color-fitted-level-3);\n",
       "}\n",
       "</style><div id=\"sk-container-id-3\" class=\"sk-top-container\"><div class=\"sk-text-repr-fallback\"><pre>DecisionTreeRegressor(random_state=42)</pre><b>In a Jupyter environment, please rerun this cell to show the HTML representation or trust the notebook. <br />On GitHub, the HTML representation is unable to render, please try loading this page with nbviewer.org.</b></div><div class=\"sk-container\" hidden><div class=\"sk-item\"><div class=\"sk-estimator fitted sk-toggleable\"><input class=\"sk-toggleable__control sk-hidden--visually\" id=\"sk-estimator-id-3\" type=\"checkbox\" checked><label for=\"sk-estimator-id-3\" class=\"sk-toggleable__label fitted sk-toggleable__label-arrow fitted\">&nbsp;&nbsp;DecisionTreeRegressor<a class=\"sk-estimator-doc-link fitted\" rel=\"noreferrer\" target=\"_blank\" href=\"https://scikit-learn.org/1.4/modules/generated/sklearn.tree.DecisionTreeRegressor.html\">?<span>Documentation for DecisionTreeRegressor</span></a><span class=\"sk-estimator-doc-link fitted\">i<span>Fitted</span></span></label><div class=\"sk-toggleable__content fitted\"><pre>DecisionTreeRegressor(random_state=42)</pre></div> </div></div></div></div>"
      ],
      "text/plain": [
       "DecisionTreeRegressor(random_state=42)"
      ]
     },
     "execution_count": 49,
     "metadata": {},
     "output_type": "execute_result"
    }
   ],
   "source": [
    "data_model.fit(x_train, y_train)"
   ]
  },
  {
   "cell_type": "markdown",
   "id": "1768e730-d196-4593-8366-33bc4bc50a9b",
   "metadata": {},
   "source": [
    "Penggunaan DecisionTreeRegressor adalah pilihan yang tepat karena cocok untuk nilai target kontinu. MEDV adalah nilai kontinu, sehingga model regresi adalah model yang benar untuk digunakan."
   ]
  },
  {
   "cell_type": "markdown",
   "id": "e950f092-d69f-42cc-9374-df8bc9d0a5d1",
   "metadata": {},
   "source": [
    "##### Memprediksi data testing"
   ]
  },
  {
   "cell_type": "code",
   "execution_count": 50,
   "id": "16071759-b0be-444c-94cb-f379b3147619",
   "metadata": {},
   "outputs": [],
   "source": [
    "y_pred = data_model.predict(x_test)"
   ]
  },
  {
   "cell_type": "markdown",
   "id": "d85e8fd1-89aa-443c-914f-e9cc9891769f",
   "metadata": {},
   "source": [
    "##### Mengevaluasi model dengan metrik yang sesuai"
   ]
  },
  {
   "cell_type": "code",
   "execution_count": 51,
   "id": "66fda4c2-1ec5-4f36-9430-4cd1af8f1c43",
   "metadata": {},
   "outputs": [],
   "source": [
    "from sklearn.metrics import mean_squared_error, mean_absolute_error, r2_score\n",
    "\n",
    "mse = mean_squared_error(y_test, y_pred)\n",
    "rmse = mse ** 0.5\n",
    "mae = mean_absolute_error(y_test, y_pred)\n",
    "r2 = r2_score(y_test, y_pred)"
   ]
  },
  {
   "cell_type": "code",
   "execution_count": 52,
   "id": "b14dafc6-c19b-4641-ab05-65a7809b65f5",
   "metadata": {},
   "outputs": [
    {
     "name": "stdout",
     "output_type": "stream",
     "text": [
      "Rata-Rata Kesalahan Kuadrat (MSE): 25.93\n",
      "Akar Rata-Rata Kesalahan Kuadrat (RMSE): 5.09\n",
      "Rata-Rata Kesalahan Absolut (MAE): 2.95\n",
      "R-kuadrat (R²): 0.61\n"
     ]
    }
   ],
   "source": [
    "print(f'Rata-Rata Kesalahan Kuadrat (MSE): {mse:.2f}')\n",
    "print(f'Akar Rata-Rata Kesalahan Kuadrat (RMSE): {rmse:.2f}')\n",
    "print(f'Rata-Rata Kesalahan Absolut (MAE): {mae:.2f}')\n",
    "print(f'R-kuadrat (R²): {r2:.2f}')"
   ]
  },
  {
   "cell_type": "markdown",
   "id": "738ce974-09b6-4075-b070-67bc38c78373",
   "metadata": {},
   "source": [
    "##### Melakukan cross-validation dengan 5-fold"
   ]
  },
  {
   "cell_type": "code",
   "execution_count": 53,
   "id": "5da7f379-4cdf-408d-8856-e8318258fb3c",
   "metadata": {},
   "outputs": [],
   "source": [
    "scores = cross_val_score(data_model, x, y, cv=5)"
   ]
  },
  {
   "cell_type": "markdown",
   "id": "8973f459-1fc9-4cbf-843f-4ec5bd4485f3",
   "metadata": {},
   "source": [
    "##### Menampilkan hasil cross-validation"
   ]
  },
  {
   "cell_type": "code",
   "execution_count": 54,
   "id": "74340038-d4a1-43e5-881d-0bbf19992957",
   "metadata": {},
   "outputs": [
    {
     "name": "stdout",
     "output_type": "stream",
     "text": [
      "Skor cross-validation: [ 0.69900719  0.6457556   0.44936169 -0.01572168 -0.00109745]\n",
      "Rata-rata skor cross-validation: 0.36\n"
     ]
    }
   ],
   "source": [
    "print(f'Skor cross-validation: {scores}')\n",
    "print(f'Rata-rata skor cross-validation: {scores.mean():.2f}')"
   ]
  },
  {
   "cell_type": "markdown",
   "id": "c21543f2-9ee4-42a1-8b9d-425e570a8686",
   "metadata": {},
   "source": [
    "Model Decision Tree Regressor sering kali mempelajari detail dan noise dari data training, sehingga bekerja sangat baik pada data training tetapi buruk pada data yang belum pernah dilihat sebelumnya, seperti data testing atau data cross-validation. Model sederhana seperti Decision Tree mungkin tidak cukup kuat untuk menangkap semua variasi ini. Mungkin ada fitur yang tidak relevan atau kurang penting dalam dataset. Selain itu, beberapa fitur penting mungkin tidak cukup representatif atau tidak ada dalam dataset."
   ]
  },
  {
   "cell_type": "code",
   "execution_count": null,
   "id": "b111375f-d571-4672-a67d-80a03d43e710",
   "metadata": {},
   "outputs": [],
   "source": []
  }
 ],
 "metadata": {
  "kernelspec": {
   "display_name": "Python 3 (ipykernel)",
   "language": "python",
   "name": "python3"
  },
  "language_info": {
   "codemirror_mode": {
    "name": "ipython",
    "version": 3
   },
   "file_extension": ".py",
   "mimetype": "text/x-python",
   "name": "python",
   "nbconvert_exporter": "python",
   "pygments_lexer": "ipython3",
   "version": "3.10.8"
  }
 },
 "nbformat": 4,
 "nbformat_minor": 5
}
