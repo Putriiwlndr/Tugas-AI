{
 "cells": [
  {
   "cell_type": "markdown",
   "id": "3848e96e-42f0-45b6-bbbc-f0093351b41e",
   "metadata": {},
   "source": [
    "import library yang diperlukan\n",
    "\n",
    "- pandas: Untuk membaca dan memanipulasi data.\n",
    "- sklearn.model_selection: Untuk membagi dataset dan melakukan validasi silang.\n",
    "- sklearn.tree: Untuk membangun dan melatih model pohon keputusan.\n",
    "- sklearn.metrics: Untuk mengevaluasi performa model."
   ]
  },
  {
   "cell_type": "code",
   "execution_count": 7,
   "id": "9dee3f41-7272-4247-9609-35a194941580",
   "metadata": {},
   "outputs": [],
   "source": [
    "import pandas as pd\n",
    "from sklearn.model_selection import train_test_split, cross_val_score\n",
    "from sklearn.tree import DecisionTreeClassifier\n",
    "from sklearn.metrics import accuracy_score"
   ]
  },
  {
   "cell_type": "markdown",
   "id": "142cdd91-6360-4967-84c8-4988cad73773",
   "metadata": {},
   "source": [
    "#### Langkah 1: Pilih dataset dari Kaggle"
   ]
  },
  {
   "cell_type": "code",
   "execution_count": 8,
   "id": "325d47ff-51f8-430e-a820-d43640e3da0a",
   "metadata": {},
   "outputs": [],
   "source": [
    "data = pd.read_csv('Student_performance_prediction.csv')"
   ]
  },
  {
   "cell_type": "markdown",
   "id": "c6c03c4c-87ae-428b-964d-116d713c9165",
   "metadata": {},
   "source": [
    "menggunakan pd.read_csv() dari Pandas untuk membaca file CSV ke dalam DataFrame data. Kemudian Anda mencetak DataFrame untuk memeriksanya."
   ]
  },
  {
   "cell_type": "code",
   "execution_count": 9,
   "id": "82eb5afe-72a1-40d9-9111-16a68651bf78",
   "metadata": {
    "scrolled": true
   },
   "outputs": [
    {
     "name": "stdout",
     "output_type": "stream",
     "text": [
      "     gender race/ethnicity parental level of education         lunch  \\\n",
      "0    female        group D                some college      standard   \n",
      "1      male        group D          associate's degree      standard   \n",
      "2    female        group D                some college  free/reduced   \n",
      "3      male        group B                some college  free/reduced   \n",
      "4    female        group D          associate's degree      standard   \n",
      "..      ...            ...                         ...           ...   \n",
      "995    male        group C                some college      standard   \n",
      "996    male        group C                some college      standard   \n",
      "997  female        group A                 high school      standard   \n",
      "998    male        group E                 high school      standard   \n",
      "999    male        group D                 high school      standard   \n",
      "\n",
      "    test preparation course  math score  reading score  writing score  \n",
      "0                 completed          59             70             78  \n",
      "1                      none          96             93             87  \n",
      "2                      none          57             76             77  \n",
      "3                      none          70             70             63  \n",
      "4                      none          83             85             86  \n",
      "..                      ...         ...            ...            ...  \n",
      "995                    none          77             77             71  \n",
      "996                    none          80             66             66  \n",
      "997               completed          67             86             86  \n",
      "998                    none          80             72             62  \n",
      "999                    none          58             47             45  \n",
      "\n",
      "[1000 rows x 8 columns]\n"
     ]
    }
   ],
   "source": [
    "print(data)"
   ]
  },
  {
   "cell_type": "markdown",
   "id": "747f3056-7fb1-462b-b93e-f700e45cfdde",
   "metadata": {},
   "source": [
    "menggunakan perintah print(data) untuk mencetak DataFrame data. "
   ]
  },
  {
   "cell_type": "markdown",
   "id": "53caf31d-e663-41ef-aaf2-30adee37c3f0",
   "metadata": {},
   "source": [
    "##### Langkah 1.1: Proses cleaning data\n",
    "- Cek informasi awal dataset"
   ]
  },
  {
   "cell_type": "code",
   "execution_count": 10,
   "id": "dd01fdd2-31f0-4a9a-a29c-97d68272d2c1",
   "metadata": {},
   "outputs": [
    {
     "name": "stdout",
     "output_type": "stream",
     "text": [
      "<class 'pandas.core.frame.DataFrame'>\n",
      "RangeIndex: 1000 entries, 0 to 999\n",
      "Data columns (total 8 columns):\n",
      " #   Column                       Non-Null Count  Dtype \n",
      "---  ------                       --------------  ----- \n",
      " 0   gender                       1000 non-null   object\n",
      " 1   race/ethnicity               1000 non-null   object\n",
      " 2   parental level of education  1000 non-null   object\n",
      " 3   lunch                        1000 non-null   object\n",
      " 4   test preparation course      1000 non-null   object\n",
      " 5   math score                   1000 non-null   int64 \n",
      " 6   reading score                1000 non-null   int64 \n",
      " 7   writing score                1000 non-null   int64 \n",
      "dtypes: int64(3), object(5)\n",
      "memory usage: 62.6+ KB\n",
      "None\n"
     ]
    }
   ],
   "source": [
    "print(data.info())"
   ]
  },
  {
   "cell_type": "markdown",
   "id": "49562750-e6b7-4304-8ad8-2f17556da2a1",
   "metadata": {},
   "source": [
    "Dengan menggunakan data.info(), mendapatkan ringkasan informasi tentang DataFrame, termasuk jumlah entri, jenis data, dan jumlah nilai non-null untuk setiap kolom."
   ]
  },
  {
   "cell_type": "code",
   "execution_count": 11,
   "id": "0d0755d8-10ef-4e0a-b58b-1d4b25159fc2",
   "metadata": {},
   "outputs": [
    {
     "name": "stdout",
     "output_type": "stream",
     "text": [
      "gender                         0\n",
      "race/ethnicity                 0\n",
      "parental level of education    0\n",
      "lunch                          0\n",
      "test preparation course        0\n",
      "math score                     0\n",
      "reading score                  0\n",
      "writing score                  0\n",
      "dtype: int64\n"
     ]
    }
   ],
   "source": [
    "print(data.isnull().sum())"
   ]
  },
  {
   "cell_type": "markdown",
   "id": "3a68a18b-9f61-4eb6-9464-78301912e166",
   "metadata": {},
   "source": [
    "Dengan data.isnull().sum(), dapat memeriksa apakah ada nilai yang hilang dalam setiap kolom. Jumlah nilai yang hilang dalam setiap kolom dicetak."
   ]
  },
  {
   "cell_type": "code",
   "execution_count": 12,
   "id": "940f5723-428c-44d6-b424-de539ec9e8de",
   "metadata": {},
   "outputs": [
    {
     "name": "stdout",
     "output_type": "stream",
     "text": [
      "Empty DataFrame\n",
      "Columns: [gender, race/ethnicity, parental level of education, lunch, test preparation course, math score, reading score, writing score]\n",
      "Index: []\n"
     ]
    }
   ],
   "source": [
    "print(data[data.duplicated()])"
   ]
  },
  {
   "cell_type": "markdown",
   "id": "9ecdc1bc-dca0-403a-9ac1-f43a9c385184",
   "metadata": {},
   "source": [
    "menggunakan data[data.duplicated()] untuk mencari duplikat dalam DataFrame, jika ada. Hasilnya dicetak."
   ]
  },
  {
   "cell_type": "code",
   "execution_count": 13,
   "id": "ec78c96e-8f78-4fb0-9ebf-bf7430fb63a5",
   "metadata": {},
   "outputs": [],
   "source": [
    "data['math score'] = data['math score'].astype(int)\n",
    "data['reading score'] = data['reading score'].astype(int)\n",
    "data['writing score'] = data['writing score'].astype(int)"
   ]
  },
  {
   "cell_type": "markdown",
   "id": "b6e34e64-863f-4339-bb5a-031d734cc9c1",
   "metadata": {},
   "source": [
    "mengonversi kolom 'math score', 'reading score', dan 'writing score' menjadi tipe data integer dengan .astype(int)."
   ]
  },
  {
   "cell_type": "code",
   "execution_count": 14,
   "id": "c8b049dd-a073-40ed-a7b9-8c13b4b6aa8b",
   "metadata": {},
   "outputs": [],
   "source": [
    "data_encoded = pd.get_dummies(data, columns=['gender', 'race/ethnicity', 'parental level of education', 'lunch', 'test preparation course'])"
   ]
  },
  {
   "cell_type": "markdown",
   "id": "9fe09687-ffdc-46c9-b780-a7f8b2800eae",
   "metadata": {},
   "source": [
    "menggunakan one-hot encoding dengan pd.get_dummies() untuk mengubah kolom-kolom kategorikal menjadi representasi biner."
   ]
  },
  {
   "cell_type": "code",
   "execution_count": 15,
   "id": "950094ab-8aa6-4cd5-93c7-d558a6830aab",
   "metadata": {},
   "outputs": [
    {
     "name": "stdout",
     "output_type": "stream",
     "text": [
      "Pembersihan data selesai dan dataset telah disimpan sebagai 'cleaned_data.csv'.\n"
     ]
    }
   ],
   "source": [
    "data_encoded.to_csv('cleaned_data.csv', index=False)\n",
    "\n",
    "print(\"Pembersihan data selesai dan dataset telah disimpan sebagai 'cleaned_data.csv'.\")"
   ]
  },
  {
   "cell_type": "markdown",
   "id": "e571fff1-90d6-4df2-b0ec-40d423b35d3c",
   "metadata": {},
   "source": [
    "DataFrame yang telah dibersihkan disimpan sebagai file CSV dengan nama 'cleaned_data.csv' menggunakan to_csv()."
   ]
  },
  {
   "cell_type": "code",
   "execution_count": 16,
   "id": "67b1c6a8-1b21-4ff6-b26f-8ab132a4f4aa",
   "metadata": {
    "scrolled": true
   },
   "outputs": [
    {
     "name": "stdout",
     "output_type": "stream",
     "text": [
      "   math score  reading score  writing score  gender_female  gender_male  \\\n",
      "0          59             70             78           True        False   \n",
      "1          96             93             87          False         True   \n",
      "2          57             76             77           True        False   \n",
      "3          70             70             63          False         True   \n",
      "4          83             85             86           True        False   \n",
      "\n",
      "   race/ethnicity_group A  race/ethnicity_group B  race/ethnicity_group C  \\\n",
      "0                   False                   False                   False   \n",
      "1                   False                   False                   False   \n",
      "2                   False                   False                   False   \n",
      "3                   False                    True                   False   \n",
      "4                   False                   False                   False   \n",
      "\n",
      "   race/ethnicity_group D  race/ethnicity_group E  \\\n",
      "0                    True                   False   \n",
      "1                    True                   False   \n",
      "2                    True                   False   \n",
      "3                   False                   False   \n",
      "4                    True                   False   \n",
      "\n",
      "   parental level of education_associate's degree  \\\n",
      "0                                           False   \n",
      "1                                            True   \n",
      "2                                           False   \n",
      "3                                           False   \n",
      "4                                            True   \n",
      "\n",
      "   parental level of education_bachelor's degree  \\\n",
      "0                                          False   \n",
      "1                                          False   \n",
      "2                                          False   \n",
      "3                                          False   \n",
      "4                                          False   \n",
      "\n",
      "   parental level of education_high school  \\\n",
      "0                                    False   \n",
      "1                                    False   \n",
      "2                                    False   \n",
      "3                                    False   \n",
      "4                                    False   \n",
      "\n",
      "   parental level of education_master's degree  \\\n",
      "0                                        False   \n",
      "1                                        False   \n",
      "2                                        False   \n",
      "3                                        False   \n",
      "4                                        False   \n",
      "\n",
      "   parental level of education_some college  \\\n",
      "0                                      True   \n",
      "1                                     False   \n",
      "2                                      True   \n",
      "3                                      True   \n",
      "4                                     False   \n",
      "\n",
      "   parental level of education_some high school  lunch_free/reduced  \\\n",
      "0                                         False               False   \n",
      "1                                         False               False   \n",
      "2                                         False                True   \n",
      "3                                         False                True   \n",
      "4                                         False               False   \n",
      "\n",
      "   lunch_standard  test preparation course_completed  \\\n",
      "0            True                               True   \n",
      "1            True                              False   \n",
      "2           False                              False   \n",
      "3           False                              False   \n",
      "4            True                              False   \n",
      "\n",
      "   test preparation course_none  \n",
      "0                         False  \n",
      "1                          True  \n",
      "2                          True  \n",
      "3                          True  \n",
      "4                          True  \n"
     ]
    }
   ],
   "source": [
    "print(data_encoded.head())"
   ]
  },
  {
   "cell_type": "code",
   "execution_count": 17,
   "id": "950bfe8f-c07b-44dd-8459-c039e0d7d3c0",
   "metadata": {},
   "outputs": [],
   "source": [
    "data_encoded = data_encoded.astype(int)"
   ]
  },
  {
   "cell_type": "code",
   "execution_count": 18,
   "id": "4099ff9c-d60d-4ecd-8ab8-4087735411a5",
   "metadata": {
    "scrolled": true
   },
   "outputs": [
    {
     "name": "stdout",
     "output_type": "stream",
     "text": [
      "     math score  reading score  writing score  gender_female  gender_male  \\\n",
      "0            59             70             78              1            0   \n",
      "1            96             93             87              0            1   \n",
      "2            57             76             77              1            0   \n",
      "3            70             70             63              0            1   \n",
      "4            83             85             86              1            0   \n",
      "..          ...            ...            ...            ...          ...   \n",
      "995          77             77             71              0            1   \n",
      "996          80             66             66              0            1   \n",
      "997          67             86             86              1            0   \n",
      "998          80             72             62              0            1   \n",
      "999          58             47             45              0            1   \n",
      "\n",
      "     race/ethnicity_group A  race/ethnicity_group B  race/ethnicity_group C  \\\n",
      "0                         0                       0                       0   \n",
      "1                         0                       0                       0   \n",
      "2                         0                       0                       0   \n",
      "3                         0                       1                       0   \n",
      "4                         0                       0                       0   \n",
      "..                      ...                     ...                     ...   \n",
      "995                       0                       0                       1   \n",
      "996                       0                       0                       1   \n",
      "997                       1                       0                       0   \n",
      "998                       0                       0                       0   \n",
      "999                       0                       0                       0   \n",
      "\n",
      "     race/ethnicity_group D  race/ethnicity_group E  \\\n",
      "0                         1                       0   \n",
      "1                         1                       0   \n",
      "2                         1                       0   \n",
      "3                         0                       0   \n",
      "4                         1                       0   \n",
      "..                      ...                     ...   \n",
      "995                       0                       0   \n",
      "996                       0                       0   \n",
      "997                       0                       0   \n",
      "998                       0                       1   \n",
      "999                       1                       0   \n",
      "\n",
      "     parental level of education_associate's degree  \\\n",
      "0                                                 0   \n",
      "1                                                 1   \n",
      "2                                                 0   \n",
      "3                                                 0   \n",
      "4                                                 1   \n",
      "..                                              ...   \n",
      "995                                               0   \n",
      "996                                               0   \n",
      "997                                               0   \n",
      "998                                               0   \n",
      "999                                               0   \n",
      "\n",
      "     parental level of education_bachelor's degree  \\\n",
      "0                                                0   \n",
      "1                                                0   \n",
      "2                                                0   \n",
      "3                                                0   \n",
      "4                                                0   \n",
      "..                                             ...   \n",
      "995                                              0   \n",
      "996                                              0   \n",
      "997                                              0   \n",
      "998                                              0   \n",
      "999                                              0   \n",
      "\n",
      "     parental level of education_high school  \\\n",
      "0                                          0   \n",
      "1                                          0   \n",
      "2                                          0   \n",
      "3                                          0   \n",
      "4                                          0   \n",
      "..                                       ...   \n",
      "995                                        0   \n",
      "996                                        0   \n",
      "997                                        1   \n",
      "998                                        1   \n",
      "999                                        1   \n",
      "\n",
      "     parental level of education_master's degree  \\\n",
      "0                                              0   \n",
      "1                                              0   \n",
      "2                                              0   \n",
      "3                                              0   \n",
      "4                                              0   \n",
      "..                                           ...   \n",
      "995                                            0   \n",
      "996                                            0   \n",
      "997                                            0   \n",
      "998                                            0   \n",
      "999                                            0   \n",
      "\n",
      "     parental level of education_some college  \\\n",
      "0                                           1   \n",
      "1                                           0   \n",
      "2                                           1   \n",
      "3                                           1   \n",
      "4                                           0   \n",
      "..                                        ...   \n",
      "995                                         1   \n",
      "996                                         1   \n",
      "997                                         0   \n",
      "998                                         0   \n",
      "999                                         0   \n",
      "\n",
      "     parental level of education_some high school  lunch_free/reduced  \\\n",
      "0                                               0                   0   \n",
      "1                                               0                   0   \n",
      "2                                               0                   1   \n",
      "3                                               0                   1   \n",
      "4                                               0                   0   \n",
      "..                                            ...                 ...   \n",
      "995                                             0                   0   \n",
      "996                                             0                   0   \n",
      "997                                             0                   0   \n",
      "998                                             0                   0   \n",
      "999                                             0                   0   \n",
      "\n",
      "     lunch_standard  test preparation course_completed  \\\n",
      "0                 1                                  1   \n",
      "1                 1                                  0   \n",
      "2                 0                                  0   \n",
      "3                 0                                  0   \n",
      "4                 1                                  0   \n",
      "..              ...                                ...   \n",
      "995               1                                  0   \n",
      "996               1                                  0   \n",
      "997               1                                  1   \n",
      "998               1                                  0   \n",
      "999               1                                  0   \n",
      "\n",
      "     test preparation course_none  \n",
      "0                               0  \n",
      "1                               1  \n",
      "2                               1  \n",
      "3                               1  \n",
      "4                               1  \n",
      "..                            ...  \n",
      "995                             1  \n",
      "996                             1  \n",
      "997                             0  \n",
      "998                             1  \n",
      "999                             1  \n",
      "\n",
      "[1000 rows x 20 columns]\n"
     ]
    }
   ],
   "source": [
    "print(data_encoded)"
   ]
  },
  {
   "cell_type": "code",
   "execution_count": 19,
   "id": "9e29efe7-fd15-4033-995a-79f2aca6ea27",
   "metadata": {},
   "outputs": [
    {
     "name": "stdout",
     "output_type": "stream",
     "text": [
      "Pembersihan data selesai dan dataset telah disimpan sebagai 'cleaned_data.csv'.\n"
     ]
    }
   ],
   "source": [
    "data_encoded.to_csv('cleaned_data.csv', index=False)\n",
    "\n",
    "print(\"Pembersihan data selesai dan dataset telah disimpan sebagai 'cleaned_data.csv'.\")"
   ]
  },
  {
   "cell_type": "markdown",
   "id": "3b47ad1a-cc06-4a67-bed8-a3705d7c306b",
   "metadata": {},
   "source": [
    "DataFrame yang telah dibersihkan disimpan sebagai file CSV dengan nama 'cleaned_data.csv' menggunakan to_csv()."
   ]
  },
  {
   "cell_type": "code",
   "execution_count": 20,
   "id": "707a8487-12ac-4153-89f8-9b63077a3570",
   "metadata": {
    "scrolled": true
   },
   "outputs": [
    {
     "name": "stdout",
     "output_type": "stream",
     "text": [
      "   math score  reading score  writing score  gender_female  gender_male  \\\n",
      "0          59             70             78              1            0   \n",
      "1          96             93             87              0            1   \n",
      "2          57             76             77              1            0   \n",
      "3          70             70             63              0            1   \n",
      "4          83             85             86              1            0   \n",
      "\n",
      "   race/ethnicity_group A  race/ethnicity_group B  race/ethnicity_group C  \\\n",
      "0                       0                       0                       0   \n",
      "1                       0                       0                       0   \n",
      "2                       0                       0                       0   \n",
      "3                       0                       1                       0   \n",
      "4                       0                       0                       0   \n",
      "\n",
      "   race/ethnicity_group D  race/ethnicity_group E  \\\n",
      "0                       1                       0   \n",
      "1                       1                       0   \n",
      "2                       1                       0   \n",
      "3                       0                       0   \n",
      "4                       1                       0   \n",
      "\n",
      "   parental level of education_associate's degree  \\\n",
      "0                                               0   \n",
      "1                                               1   \n",
      "2                                               0   \n",
      "3                                               0   \n",
      "4                                               1   \n",
      "\n",
      "   parental level of education_bachelor's degree  \\\n",
      "0                                              0   \n",
      "1                                              0   \n",
      "2                                              0   \n",
      "3                                              0   \n",
      "4                                              0   \n",
      "\n",
      "   parental level of education_high school  \\\n",
      "0                                        0   \n",
      "1                                        0   \n",
      "2                                        0   \n",
      "3                                        0   \n",
      "4                                        0   \n",
      "\n",
      "   parental level of education_master's degree  \\\n",
      "0                                            0   \n",
      "1                                            0   \n",
      "2                                            0   \n",
      "3                                            0   \n",
      "4                                            0   \n",
      "\n",
      "   parental level of education_some college  \\\n",
      "0                                         1   \n",
      "1                                         0   \n",
      "2                                         1   \n",
      "3                                         1   \n",
      "4                                         0   \n",
      "\n",
      "   parental level of education_some high school  lunch_free/reduced  \\\n",
      "0                                             0                   0   \n",
      "1                                             0                   0   \n",
      "2                                             0                   1   \n",
      "3                                             0                   1   \n",
      "4                                             0                   0   \n",
      "\n",
      "   lunch_standard  test preparation course_completed  \\\n",
      "0               1                                  1   \n",
      "1               1                                  0   \n",
      "2               0                                  0   \n",
      "3               0                                  0   \n",
      "4               1                                  0   \n",
      "\n",
      "   test preparation course_none  \n",
      "0                             0  \n",
      "1                             1  \n",
      "2                             1  \n",
      "3                             1  \n",
      "4                             1  \n"
     ]
    }
   ],
   "source": [
    "print(data_encoded.head())"
   ]
  },
  {
   "cell_type": "markdown",
   "id": "3cc97206-2bf9-44c5-9d1a-6c80bf9c224a",
   "metadata": {},
   "source": [
    "DataFrame yang telah dibersihkan disimpan sebagai file CSV dengan nama 'cleaned_data.csv' menggunakan to_csv()."
   ]
  },
  {
   "cell_type": "code",
   "execution_count": 21,
   "id": "44d14b30-b5f4-44d1-8c3e-5dbf9a66ca30",
   "metadata": {},
   "outputs": [
    {
     "name": "stdout",
     "output_type": "stream",
     "text": [
      "math score                                        int32\n",
      "reading score                                     int32\n",
      "writing score                                     int32\n",
      "gender_female                                     int32\n",
      "gender_male                                       int32\n",
      "race/ethnicity_group A                            int32\n",
      "race/ethnicity_group B                            int32\n",
      "race/ethnicity_group C                            int32\n",
      "race/ethnicity_group D                            int32\n",
      "race/ethnicity_group E                            int32\n",
      "parental level of education_associate's degree    int32\n",
      "parental level of education_bachelor's degree     int32\n",
      "parental level of education_high school           int32\n",
      "parental level of education_master's degree       int32\n",
      "parental level of education_some college          int32\n",
      "parental level of education_some high school      int32\n",
      "lunch_free/reduced                                int32\n",
      "lunch_standard                                    int32\n",
      "test preparation course_completed                 int32\n",
      "test preparation course_none                      int32\n",
      "dtype: object\n"
     ]
    }
   ],
   "source": [
    "print(data_encoded.dtypes)"
   ]
  },
  {
   "cell_type": "code",
   "execution_count": 22,
   "id": "ea16900a-4844-4880-a782-49f3f2432318",
   "metadata": {},
   "outputs": [],
   "source": [
    "data['average_score'] = data[['math score', 'reading score', 'writing score']].mean(axis=1)\n",
    "data['performance'] = data['average_score'].apply(lambda x: 1 if x >= 60 else 0)"
   ]
  },
  {
   "cell_type": "markdown",
   "id": "d0c3708d-f22f-4a46-be35-6bbafda193a7",
   "metadata": {},
   "source": [
    "menambahkan kolom 'average_score' yang merupakan rata-rata dari skor matematika, membaca, dan menulis, serta kolom 'performance' yang menunjukkan apakah kinerja siswa memenuhi ambang batas (di sini, ambang batasnya adalah 60)."
   ]
  },
  {
   "cell_type": "code",
   "execution_count": 23,
   "id": "341bb17e-55a4-40f1-9607-37ff4f81ae76",
   "metadata": {},
   "outputs": [],
   "source": [
    "x = data.drop(columns=[\"average_score\", \"performance\", \"math score\", \"reading score\", \"writing score\"])  # Atribut\n",
    "y = data[\"performance\"]  # Label"
   ]
  },
  {
   "cell_type": "markdown",
   "id": "0fc464f0-6ad6-4761-9aae-916c8bd63af0",
   "metadata": {},
   "source": [
    "memisahkan DataFrame menjadi atribut (x) dan label (y)."
   ]
  },
  {
   "cell_type": "code",
   "execution_count": 24,
   "id": "175f54af-407e-4c3d-86ee-7c7a19d62603",
   "metadata": {
    "scrolled": true
   },
   "outputs": [
    {
     "name": "stdout",
     "output_type": "stream",
     "text": [
      "     gender race/ethnicity parental level of education         lunch  \\\n",
      "0    female        group D                some college      standard   \n",
      "1      male        group D          associate's degree      standard   \n",
      "2    female        group D                some college  free/reduced   \n",
      "3      male        group B                some college  free/reduced   \n",
      "4    female        group D          associate's degree      standard   \n",
      "..      ...            ...                         ...           ...   \n",
      "995    male        group C                some college      standard   \n",
      "996    male        group C                some college      standard   \n",
      "997  female        group A                 high school      standard   \n",
      "998    male        group E                 high school      standard   \n",
      "999    male        group D                 high school      standard   \n",
      "\n",
      "    test preparation course  \n",
      "0                 completed  \n",
      "1                      none  \n",
      "2                      none  \n",
      "3                      none  \n",
      "4                      none  \n",
      "..                      ...  \n",
      "995                    none  \n",
      "996                    none  \n",
      "997               completed  \n",
      "998                    none  \n",
      "999                    none  \n",
      "\n",
      "[1000 rows x 5 columns]\n"
     ]
    }
   ],
   "source": [
    "print(x)"
   ]
  },
  {
   "cell_type": "markdown",
   "id": "2540cc03-7b83-48ea-bbea-b947a11577f2",
   "metadata": {},
   "source": [
    "menampilkan nilai x"
   ]
  },
  {
   "cell_type": "code",
   "execution_count": 25,
   "id": "99514463-725e-4e37-a810-254bea809a25",
   "metadata": {
    "scrolled": true
   },
   "outputs": [
    {
     "name": "stdout",
     "output_type": "stream",
     "text": [
      "0      1\n",
      "1      1\n",
      "2      1\n",
      "3      1\n",
      "4      1\n",
      "      ..\n",
      "995    1\n",
      "996    1\n",
      "997    1\n",
      "998    1\n",
      "999    0\n",
      "Name: performance, Length: 1000, dtype: int64\n"
     ]
    }
   ],
   "source": [
    "print(y)"
   ]
  },
  {
   "cell_type": "markdown",
   "id": "5f17322a-eac0-4895-9f33-2a90d88dbea8",
   "metadata": {},
   "source": [
    "menampilkan nilai y"
   ]
  },
  {
   "cell_type": "markdown",
   "id": "ff7c052b-cc60-4843-b830-fd9fd407d2dc",
   "metadata": {},
   "source": [
    "#### Langkah 3: Membagi data menjadi data training dan data testing\n",
    "- menggunakan 70% data untuk training dan 30% untuk testing untuk memastikan keseimbangan antara pelatihan dan pengujian."
   ]
  },
  {
   "cell_type": "code",
   "execution_count": 26,
   "id": "4b1d8f44-42f2-4f5a-a867-1601176888dc",
   "metadata": {},
   "outputs": [],
   "source": [
    "x_train, x_test, y_train, y_test = train_test_split(x, y, test_size=0.2, random_state=1)"
   ]
  },
  {
   "cell_type": "markdown",
   "id": "7c78479d-a7a0-488d-b7c0-e4772f709e70",
   "metadata": {},
   "source": [
    "membagi data menjadi data pelatihan dan data pengujian menggunakan train_test_split()."
   ]
  },
  {
   "cell_type": "code",
   "execution_count": 29,
   "id": "9246fe17-6d31-4b84-83d6-a3aadd2b9451",
   "metadata": {},
   "outputs": [
    {
     "data": {
      "text/plain": [
       "200"
      ]
     },
     "execution_count": 29,
     "metadata": {},
     "output_type": "execute_result"
    }
   ],
   "source": [
    "len(x_test)"
   ]
  },
  {
   "cell_type": "markdown",
   "id": "99ef0e64-3e0c-4f27-8102-dffeb4f0a81e",
   "metadata": {},
   "source": [
    "Perintah len(x_test) digunakan untuk menghitung jumlah baris dalam DataFrame x_test."
   ]
  },
  {
   "cell_type": "code",
   "execution_count": 31,
   "id": "9280044c-a9c0-4df6-83ae-2c309a545670",
   "metadata": {},
   "outputs": [
    {
     "data": {
      "text/plain": [
       "800"
      ]
     },
     "execution_count": 31,
     "metadata": {},
     "output_type": "execute_result"
    }
   ],
   "source": [
    "len(y_train)"
   ]
  },
  {
   "cell_type": "markdown",
   "id": "babce1e3-7fa7-4162-9051-391e91f5e211",
   "metadata": {},
   "source": [
    "Perintah len(y_train) digunakan untuk menghitung jumlah elemen atau sampel dalam array atau Series y_train. "
   ]
  },
  {
   "cell_type": "markdown",
   "id": "b3992176-62a8-45a8-9466-e519404b68ab",
   "metadata": {},
   "source": [
    "- Lakukan one-hot encoding pada fitur-fitur kategorikal"
   ]
  },
  {
   "cell_type": "code",
   "execution_count": 32,
   "id": "7d4959bc-fc3d-488a-b6d6-f631e81637cd",
   "metadata": {},
   "outputs": [],
   "source": [
    "x_encoded = pd.get_dummies(x)"
   ]
  },
  {
   "cell_type": "markdown",
   "id": "07a6192e-7937-4eec-8950-2799415b05f2",
   "metadata": {},
   "source": [
    "- Pisahkan dataset menjadi data training dan data testing"
   ]
  },
  {
   "cell_type": "code",
   "execution_count": 33,
   "id": "1720d45b-5bd4-44b9-b97d-7a265fd9af39",
   "metadata": {},
   "outputs": [],
   "source": [
    "x_train_encoded, x_test_encoded, y_train, y_test = train_test_split(x_encoded, y, test_size=0.3, random_state=1)"
   ]
  },
  {
   "cell_type": "code",
   "execution_count": 65,
   "id": "591cae4a-a902-47da-b49a-f45d14cabbe5",
   "metadata": {},
   "outputs": [
    {
     "name": "stdout",
     "output_type": "stream",
     "text": [
      "     gender_female  gender_male  race/ethnicity_group A  \\\n",
      "0             True        False                   False   \n",
      "1            False         True                   False   \n",
      "2             True        False                   False   \n",
      "3            False         True                   False   \n",
      "4             True        False                   False   \n",
      "..             ...          ...                     ...   \n",
      "995          False         True                   False   \n",
      "996          False         True                   False   \n",
      "997           True        False                    True   \n",
      "998          False         True                   False   \n",
      "999          False         True                   False   \n",
      "\n",
      "     race/ethnicity_group B  race/ethnicity_group C  race/ethnicity_group D  \\\n",
      "0                     False                   False                    True   \n",
      "1                     False                   False                    True   \n",
      "2                     False                   False                    True   \n",
      "3                      True                   False                   False   \n",
      "4                     False                   False                    True   \n",
      "..                      ...                     ...                     ...   \n",
      "995                   False                    True                   False   \n",
      "996                   False                    True                   False   \n",
      "997                   False                   False                   False   \n",
      "998                   False                   False                   False   \n",
      "999                   False                   False                    True   \n",
      "\n",
      "     race/ethnicity_group E  parental level of education_associate's degree  \\\n",
      "0                     False                                           False   \n",
      "1                     False                                            True   \n",
      "2                     False                                           False   \n",
      "3                     False                                           False   \n",
      "4                     False                                            True   \n",
      "..                      ...                                             ...   \n",
      "995                   False                                           False   \n",
      "996                   False                                           False   \n",
      "997                   False                                           False   \n",
      "998                    True                                           False   \n",
      "999                   False                                           False   \n",
      "\n",
      "     parental level of education_bachelor's degree  \\\n",
      "0                                            False   \n",
      "1                                            False   \n",
      "2                                            False   \n",
      "3                                            False   \n",
      "4                                            False   \n",
      "..                                             ...   \n",
      "995                                          False   \n",
      "996                                          False   \n",
      "997                                          False   \n",
      "998                                          False   \n",
      "999                                          False   \n",
      "\n",
      "     parental level of education_high school  \\\n",
      "0                                      False   \n",
      "1                                      False   \n",
      "2                                      False   \n",
      "3                                      False   \n",
      "4                                      False   \n",
      "..                                       ...   \n",
      "995                                    False   \n",
      "996                                    False   \n",
      "997                                     True   \n",
      "998                                     True   \n",
      "999                                     True   \n",
      "\n",
      "     parental level of education_master's degree  \\\n",
      "0                                          False   \n",
      "1                                          False   \n",
      "2                                          False   \n",
      "3                                          False   \n",
      "4                                          False   \n",
      "..                                           ...   \n",
      "995                                        False   \n",
      "996                                        False   \n",
      "997                                        False   \n",
      "998                                        False   \n",
      "999                                        False   \n",
      "\n",
      "     parental level of education_some college  \\\n",
      "0                                        True   \n",
      "1                                       False   \n",
      "2                                        True   \n",
      "3                                        True   \n",
      "4                                       False   \n",
      "..                                        ...   \n",
      "995                                      True   \n",
      "996                                      True   \n",
      "997                                     False   \n",
      "998                                     False   \n",
      "999                                     False   \n",
      "\n",
      "     parental level of education_some high school  lunch_free/reduced  \\\n",
      "0                                           False               False   \n",
      "1                                           False               False   \n",
      "2                                           False                True   \n",
      "3                                           False                True   \n",
      "4                                           False               False   \n",
      "..                                            ...                 ...   \n",
      "995                                         False               False   \n",
      "996                                         False               False   \n",
      "997                                         False               False   \n",
      "998                                         False               False   \n",
      "999                                         False               False   \n",
      "\n",
      "     lunch_standard  test preparation course_completed  \\\n",
      "0              True                               True   \n",
      "1              True                              False   \n",
      "2             False                              False   \n",
      "3             False                              False   \n",
      "4              True                              False   \n",
      "..              ...                                ...   \n",
      "995            True                              False   \n",
      "996            True                              False   \n",
      "997            True                               True   \n",
      "998            True                              False   \n",
      "999            True                              False   \n",
      "\n",
      "     test preparation course_none  \n",
      "0                           False  \n",
      "1                            True  \n",
      "2                            True  \n",
      "3                            True  \n",
      "4                            True  \n",
      "..                            ...  \n",
      "995                          True  \n",
      "996                          True  \n",
      "997                         False  \n",
      "998                          True  \n",
      "999                          True  \n",
      "\n",
      "[1000 rows x 17 columns]\n"
     ]
    }
   ],
   "source": [
    "print(x_encoded)"
   ]
  },
  {
   "cell_type": "markdown",
   "id": "5674331a-1890-405f-8ff4-d773d8db4bf3",
   "metadata": {},
   "source": [
    "Perintah print(x_encoded) digunakan untuk mencetak DataFrame x_encoded, yang merupakan hasil dari proses one-hot encoding pada atribut-atribut dalam DataFrame x."
   ]
  },
  {
   "cell_type": "markdown",
   "id": "b2b5adc8-4775-4244-af67-f0e560089140",
   "metadata": {},
   "source": [
    "- Membuat model Decision Tree"
   ]
  },
  {
   "cell_type": "code",
   "execution_count": 35,
   "id": "ee3a9bc5-bddb-4f1d-9797-bdd34700fe66",
   "metadata": {},
   "outputs": [],
   "source": [
    "data_model = DecisionTreeClassifier(random_state=1)"
   ]
  },
  {
   "cell_type": "markdown",
   "id": "7261f4c5-3c44-4ad1-9a03-2dc6f29dc1a1",
   "metadata": {},
   "source": [
    "- Melatih model"
   ]
  },
  {
   "cell_type": "code",
   "execution_count": 36,
   "id": "3f168736-07c6-474a-9267-9ddcd1d857ad",
   "metadata": {},
   "outputs": [
    {
     "data": {
      "text/html": [
       "<style>#sk-container-id-1 {\n",
       "  /* Definition of color scheme common for light and dark mode */\n",
       "  --sklearn-color-text: black;\n",
       "  --sklearn-color-line: gray;\n",
       "  /* Definition of color scheme for unfitted estimators */\n",
       "  --sklearn-color-unfitted-level-0: #fff5e6;\n",
       "  --sklearn-color-unfitted-level-1: #f6e4d2;\n",
       "  --sklearn-color-unfitted-level-2: #ffe0b3;\n",
       "  --sklearn-color-unfitted-level-3: chocolate;\n",
       "  /* Definition of color scheme for fitted estimators */\n",
       "  --sklearn-color-fitted-level-0: #f0f8ff;\n",
       "  --sklearn-color-fitted-level-1: #d4ebff;\n",
       "  --sklearn-color-fitted-level-2: #b3dbfd;\n",
       "  --sklearn-color-fitted-level-3: cornflowerblue;\n",
       "\n",
       "  /* Specific color for light theme */\n",
       "  --sklearn-color-text-on-default-background: var(--sg-text-color, var(--theme-code-foreground, var(--jp-content-font-color1, black)));\n",
       "  --sklearn-color-background: var(--sg-background-color, var(--theme-background, var(--jp-layout-color0, white)));\n",
       "  --sklearn-color-border-box: var(--sg-text-color, var(--theme-code-foreground, var(--jp-content-font-color1, black)));\n",
       "  --sklearn-color-icon: #696969;\n",
       "\n",
       "  @media (prefers-color-scheme: dark) {\n",
       "    /* Redefinition of color scheme for dark theme */\n",
       "    --sklearn-color-text-on-default-background: var(--sg-text-color, var(--theme-code-foreground, var(--jp-content-font-color1, white)));\n",
       "    --sklearn-color-background: var(--sg-background-color, var(--theme-background, var(--jp-layout-color0, #111)));\n",
       "    --sklearn-color-border-box: var(--sg-text-color, var(--theme-code-foreground, var(--jp-content-font-color1, white)));\n",
       "    --sklearn-color-icon: #878787;\n",
       "  }\n",
       "}\n",
       "\n",
       "#sk-container-id-1 {\n",
       "  color: var(--sklearn-color-text);\n",
       "}\n",
       "\n",
       "#sk-container-id-1 pre {\n",
       "  padding: 0;\n",
       "}\n",
       "\n",
       "#sk-container-id-1 input.sk-hidden--visually {\n",
       "  border: 0;\n",
       "  clip: rect(1px 1px 1px 1px);\n",
       "  clip: rect(1px, 1px, 1px, 1px);\n",
       "  height: 1px;\n",
       "  margin: -1px;\n",
       "  overflow: hidden;\n",
       "  padding: 0;\n",
       "  position: absolute;\n",
       "  width: 1px;\n",
       "}\n",
       "\n",
       "#sk-container-id-1 div.sk-dashed-wrapped {\n",
       "  border: 1px dashed var(--sklearn-color-line);\n",
       "  margin: 0 0.4em 0.5em 0.4em;\n",
       "  box-sizing: border-box;\n",
       "  padding-bottom: 0.4em;\n",
       "  background-color: var(--sklearn-color-background);\n",
       "}\n",
       "\n",
       "#sk-container-id-1 div.sk-container {\n",
       "  /* jupyter's `normalize.less` sets `[hidden] { display: none; }`\n",
       "     but bootstrap.min.css set `[hidden] { display: none !important; }`\n",
       "     so we also need the `!important` here to be able to override the\n",
       "     default hidden behavior on the sphinx rendered scikit-learn.org.\n",
       "     See: https://github.com/scikit-learn/scikit-learn/issues/21755 */\n",
       "  display: inline-block !important;\n",
       "  position: relative;\n",
       "}\n",
       "\n",
       "#sk-container-id-1 div.sk-text-repr-fallback {\n",
       "  display: none;\n",
       "}\n",
       "\n",
       "div.sk-parallel-item,\n",
       "div.sk-serial,\n",
       "div.sk-item {\n",
       "  /* draw centered vertical line to link estimators */\n",
       "  background-image: linear-gradient(var(--sklearn-color-text-on-default-background), var(--sklearn-color-text-on-default-background));\n",
       "  background-size: 2px 100%;\n",
       "  background-repeat: no-repeat;\n",
       "  background-position: center center;\n",
       "}\n",
       "\n",
       "/* Parallel-specific style estimator block */\n",
       "\n",
       "#sk-container-id-1 div.sk-parallel-item::after {\n",
       "  content: \"\";\n",
       "  width: 100%;\n",
       "  border-bottom: 2px solid var(--sklearn-color-text-on-default-background);\n",
       "  flex-grow: 1;\n",
       "}\n",
       "\n",
       "#sk-container-id-1 div.sk-parallel {\n",
       "  display: flex;\n",
       "  align-items: stretch;\n",
       "  justify-content: center;\n",
       "  background-color: var(--sklearn-color-background);\n",
       "  position: relative;\n",
       "}\n",
       "\n",
       "#sk-container-id-1 div.sk-parallel-item {\n",
       "  display: flex;\n",
       "  flex-direction: column;\n",
       "}\n",
       "\n",
       "#sk-container-id-1 div.sk-parallel-item:first-child::after {\n",
       "  align-self: flex-end;\n",
       "  width: 50%;\n",
       "}\n",
       "\n",
       "#sk-container-id-1 div.sk-parallel-item:last-child::after {\n",
       "  align-self: flex-start;\n",
       "  width: 50%;\n",
       "}\n",
       "\n",
       "#sk-container-id-1 div.sk-parallel-item:only-child::after {\n",
       "  width: 0;\n",
       "}\n",
       "\n",
       "/* Serial-specific style estimator block */\n",
       "\n",
       "#sk-container-id-1 div.sk-serial {\n",
       "  display: flex;\n",
       "  flex-direction: column;\n",
       "  align-items: center;\n",
       "  background-color: var(--sklearn-color-background);\n",
       "  padding-right: 1em;\n",
       "  padding-left: 1em;\n",
       "}\n",
       "\n",
       "\n",
       "/* Toggleable style: style used for estimator/Pipeline/ColumnTransformer box that is\n",
       "clickable and can be expanded/collapsed.\n",
       "- Pipeline and ColumnTransformer use this feature and define the default style\n",
       "- Estimators will overwrite some part of the style using the `sk-estimator` class\n",
       "*/\n",
       "\n",
       "/* Pipeline and ColumnTransformer style (default) */\n",
       "\n",
       "#sk-container-id-1 div.sk-toggleable {\n",
       "  /* Default theme specific background. It is overwritten whether we have a\n",
       "  specific estimator or a Pipeline/ColumnTransformer */\n",
       "  background-color: var(--sklearn-color-background);\n",
       "}\n",
       "\n",
       "/* Toggleable label */\n",
       "#sk-container-id-1 label.sk-toggleable__label {\n",
       "  cursor: pointer;\n",
       "  display: block;\n",
       "  width: 100%;\n",
       "  margin-bottom: 0;\n",
       "  padding: 0.5em;\n",
       "  box-sizing: border-box;\n",
       "  text-align: center;\n",
       "}\n",
       "\n",
       "#sk-container-id-1 label.sk-toggleable__label-arrow:before {\n",
       "  /* Arrow on the left of the label */\n",
       "  content: \"▸\";\n",
       "  float: left;\n",
       "  margin-right: 0.25em;\n",
       "  color: var(--sklearn-color-icon);\n",
       "}\n",
       "\n",
       "#sk-container-id-1 label.sk-toggleable__label-arrow:hover:before {\n",
       "  color: var(--sklearn-color-text);\n",
       "}\n",
       "\n",
       "/* Toggleable content - dropdown */\n",
       "\n",
       "#sk-container-id-1 div.sk-toggleable__content {\n",
       "  max-height: 0;\n",
       "  max-width: 0;\n",
       "  overflow: hidden;\n",
       "  text-align: left;\n",
       "  /* unfitted */\n",
       "  background-color: var(--sklearn-color-unfitted-level-0);\n",
       "}\n",
       "\n",
       "#sk-container-id-1 div.sk-toggleable__content.fitted {\n",
       "  /* fitted */\n",
       "  background-color: var(--sklearn-color-fitted-level-0);\n",
       "}\n",
       "\n",
       "#sk-container-id-1 div.sk-toggleable__content pre {\n",
       "  margin: 0.2em;\n",
       "  border-radius: 0.25em;\n",
       "  color: var(--sklearn-color-text);\n",
       "  /* unfitted */\n",
       "  background-color: var(--sklearn-color-unfitted-level-0);\n",
       "}\n",
       "\n",
       "#sk-container-id-1 div.sk-toggleable__content.fitted pre {\n",
       "  /* unfitted */\n",
       "  background-color: var(--sklearn-color-fitted-level-0);\n",
       "}\n",
       "\n",
       "#sk-container-id-1 input.sk-toggleable__control:checked~div.sk-toggleable__content {\n",
       "  /* Expand drop-down */\n",
       "  max-height: 200px;\n",
       "  max-width: 100%;\n",
       "  overflow: auto;\n",
       "}\n",
       "\n",
       "#sk-container-id-1 input.sk-toggleable__control:checked~label.sk-toggleable__label-arrow:before {\n",
       "  content: \"▾\";\n",
       "}\n",
       "\n",
       "/* Pipeline/ColumnTransformer-specific style */\n",
       "\n",
       "#sk-container-id-1 div.sk-label input.sk-toggleable__control:checked~label.sk-toggleable__label {\n",
       "  color: var(--sklearn-color-text);\n",
       "  background-color: var(--sklearn-color-unfitted-level-2);\n",
       "}\n",
       "\n",
       "#sk-container-id-1 div.sk-label.fitted input.sk-toggleable__control:checked~label.sk-toggleable__label {\n",
       "  background-color: var(--sklearn-color-fitted-level-2);\n",
       "}\n",
       "\n",
       "/* Estimator-specific style */\n",
       "\n",
       "/* Colorize estimator box */\n",
       "#sk-container-id-1 div.sk-estimator input.sk-toggleable__control:checked~label.sk-toggleable__label {\n",
       "  /* unfitted */\n",
       "  background-color: var(--sklearn-color-unfitted-level-2);\n",
       "}\n",
       "\n",
       "#sk-container-id-1 div.sk-estimator.fitted input.sk-toggleable__control:checked~label.sk-toggleable__label {\n",
       "  /* fitted */\n",
       "  background-color: var(--sklearn-color-fitted-level-2);\n",
       "}\n",
       "\n",
       "#sk-container-id-1 div.sk-label label.sk-toggleable__label,\n",
       "#sk-container-id-1 div.sk-label label {\n",
       "  /* The background is the default theme color */\n",
       "  color: var(--sklearn-color-text-on-default-background);\n",
       "}\n",
       "\n",
       "/* On hover, darken the color of the background */\n",
       "#sk-container-id-1 div.sk-label:hover label.sk-toggleable__label {\n",
       "  color: var(--sklearn-color-text);\n",
       "  background-color: var(--sklearn-color-unfitted-level-2);\n",
       "}\n",
       "\n",
       "/* Label box, darken color on hover, fitted */\n",
       "#sk-container-id-1 div.sk-label.fitted:hover label.sk-toggleable__label.fitted {\n",
       "  color: var(--sklearn-color-text);\n",
       "  background-color: var(--sklearn-color-fitted-level-2);\n",
       "}\n",
       "\n",
       "/* Estimator label */\n",
       "\n",
       "#sk-container-id-1 div.sk-label label {\n",
       "  font-family: monospace;\n",
       "  font-weight: bold;\n",
       "  display: inline-block;\n",
       "  line-height: 1.2em;\n",
       "}\n",
       "\n",
       "#sk-container-id-1 div.sk-label-container {\n",
       "  text-align: center;\n",
       "}\n",
       "\n",
       "/* Estimator-specific */\n",
       "#sk-container-id-1 div.sk-estimator {\n",
       "  font-family: monospace;\n",
       "  border: 1px dotted var(--sklearn-color-border-box);\n",
       "  border-radius: 0.25em;\n",
       "  box-sizing: border-box;\n",
       "  margin-bottom: 0.5em;\n",
       "  /* unfitted */\n",
       "  background-color: var(--sklearn-color-unfitted-level-0);\n",
       "}\n",
       "\n",
       "#sk-container-id-1 div.sk-estimator.fitted {\n",
       "  /* fitted */\n",
       "  background-color: var(--sklearn-color-fitted-level-0);\n",
       "}\n",
       "\n",
       "/* on hover */\n",
       "#sk-container-id-1 div.sk-estimator:hover {\n",
       "  /* unfitted */\n",
       "  background-color: var(--sklearn-color-unfitted-level-2);\n",
       "}\n",
       "\n",
       "#sk-container-id-1 div.sk-estimator.fitted:hover {\n",
       "  /* fitted */\n",
       "  background-color: var(--sklearn-color-fitted-level-2);\n",
       "}\n",
       "\n",
       "/* Specification for estimator info (e.g. \"i\" and \"?\") */\n",
       "\n",
       "/* Common style for \"i\" and \"?\" */\n",
       "\n",
       ".sk-estimator-doc-link,\n",
       "a:link.sk-estimator-doc-link,\n",
       "a:visited.sk-estimator-doc-link {\n",
       "  float: right;\n",
       "  font-size: smaller;\n",
       "  line-height: 1em;\n",
       "  font-family: monospace;\n",
       "  background-color: var(--sklearn-color-background);\n",
       "  border-radius: 1em;\n",
       "  height: 1em;\n",
       "  width: 1em;\n",
       "  text-decoration: none !important;\n",
       "  margin-left: 1ex;\n",
       "  /* unfitted */\n",
       "  border: var(--sklearn-color-unfitted-level-1) 1pt solid;\n",
       "  color: var(--sklearn-color-unfitted-level-1);\n",
       "}\n",
       "\n",
       ".sk-estimator-doc-link.fitted,\n",
       "a:link.sk-estimator-doc-link.fitted,\n",
       "a:visited.sk-estimator-doc-link.fitted {\n",
       "  /* fitted */\n",
       "  border: var(--sklearn-color-fitted-level-1) 1pt solid;\n",
       "  color: var(--sklearn-color-fitted-level-1);\n",
       "}\n",
       "\n",
       "/* On hover */\n",
       "div.sk-estimator:hover .sk-estimator-doc-link:hover,\n",
       ".sk-estimator-doc-link:hover,\n",
       "div.sk-label-container:hover .sk-estimator-doc-link:hover,\n",
       ".sk-estimator-doc-link:hover {\n",
       "  /* unfitted */\n",
       "  background-color: var(--sklearn-color-unfitted-level-3);\n",
       "  color: var(--sklearn-color-background);\n",
       "  text-decoration: none;\n",
       "}\n",
       "\n",
       "div.sk-estimator.fitted:hover .sk-estimator-doc-link.fitted:hover,\n",
       ".sk-estimator-doc-link.fitted:hover,\n",
       "div.sk-label-container:hover .sk-estimator-doc-link.fitted:hover,\n",
       ".sk-estimator-doc-link.fitted:hover {\n",
       "  /* fitted */\n",
       "  background-color: var(--sklearn-color-fitted-level-3);\n",
       "  color: var(--sklearn-color-background);\n",
       "  text-decoration: none;\n",
       "}\n",
       "\n",
       "/* Span, style for the box shown on hovering the info icon */\n",
       ".sk-estimator-doc-link span {\n",
       "  display: none;\n",
       "  z-index: 9999;\n",
       "  position: relative;\n",
       "  font-weight: normal;\n",
       "  right: .2ex;\n",
       "  padding: .5ex;\n",
       "  margin: .5ex;\n",
       "  width: min-content;\n",
       "  min-width: 20ex;\n",
       "  max-width: 50ex;\n",
       "  color: var(--sklearn-color-text);\n",
       "  box-shadow: 2pt 2pt 4pt #999;\n",
       "  /* unfitted */\n",
       "  background: var(--sklearn-color-unfitted-level-0);\n",
       "  border: .5pt solid var(--sklearn-color-unfitted-level-3);\n",
       "}\n",
       "\n",
       ".sk-estimator-doc-link.fitted span {\n",
       "  /* fitted */\n",
       "  background: var(--sklearn-color-fitted-level-0);\n",
       "  border: var(--sklearn-color-fitted-level-3);\n",
       "}\n",
       "\n",
       ".sk-estimator-doc-link:hover span {\n",
       "  display: block;\n",
       "}\n",
       "\n",
       "/* \"?\"-specific style due to the `<a>` HTML tag */\n",
       "\n",
       "#sk-container-id-1 a.estimator_doc_link {\n",
       "  float: right;\n",
       "  font-size: 1rem;\n",
       "  line-height: 1em;\n",
       "  font-family: monospace;\n",
       "  background-color: var(--sklearn-color-background);\n",
       "  border-radius: 1rem;\n",
       "  height: 1rem;\n",
       "  width: 1rem;\n",
       "  text-decoration: none;\n",
       "  /* unfitted */\n",
       "  color: var(--sklearn-color-unfitted-level-1);\n",
       "  border: var(--sklearn-color-unfitted-level-1) 1pt solid;\n",
       "}\n",
       "\n",
       "#sk-container-id-1 a.estimator_doc_link.fitted {\n",
       "  /* fitted */\n",
       "  border: var(--sklearn-color-fitted-level-1) 1pt solid;\n",
       "  color: var(--sklearn-color-fitted-level-1);\n",
       "}\n",
       "\n",
       "/* On hover */\n",
       "#sk-container-id-1 a.estimator_doc_link:hover {\n",
       "  /* unfitted */\n",
       "  background-color: var(--sklearn-color-unfitted-level-3);\n",
       "  color: var(--sklearn-color-background);\n",
       "  text-decoration: none;\n",
       "}\n",
       "\n",
       "#sk-container-id-1 a.estimator_doc_link.fitted:hover {\n",
       "  /* fitted */\n",
       "  background-color: var(--sklearn-color-fitted-level-3);\n",
       "}\n",
       "</style><div id=\"sk-container-id-1\" class=\"sk-top-container\"><div class=\"sk-text-repr-fallback\"><pre>DecisionTreeClassifier(random_state=1)</pre><b>In a Jupyter environment, please rerun this cell to show the HTML representation or trust the notebook. <br />On GitHub, the HTML representation is unable to render, please try loading this page with nbviewer.org.</b></div><div class=\"sk-container\" hidden><div class=\"sk-item\"><div class=\"sk-estimator fitted sk-toggleable\"><input class=\"sk-toggleable__control sk-hidden--visually\" id=\"sk-estimator-id-1\" type=\"checkbox\" checked><label for=\"sk-estimator-id-1\" class=\"sk-toggleable__label fitted sk-toggleable__label-arrow fitted\">&nbsp;&nbsp;DecisionTreeClassifier<a class=\"sk-estimator-doc-link fitted\" rel=\"noreferrer\" target=\"_blank\" href=\"https://scikit-learn.org/1.4/modules/generated/sklearn.tree.DecisionTreeClassifier.html\">?<span>Documentation for DecisionTreeClassifier</span></a><span class=\"sk-estimator-doc-link fitted\">i<span>Fitted</span></span></label><div class=\"sk-toggleable__content fitted\"><pre>DecisionTreeClassifier(random_state=1)</pre></div> </div></div></div></div>"
      ],
      "text/plain": [
       "DecisionTreeClassifier(random_state=1)"
      ]
     },
     "execution_count": 36,
     "metadata": {},
     "output_type": "execute_result"
    }
   ],
   "source": [
    "data_model.fit(x_train_encoded, y_train)"
   ]
  },
  {
   "cell_type": "markdown",
   "id": "8096091a-0de2-49f1-85d9-2e28c4320bc1",
   "metadata": {},
   "source": [
    "membuat model Decision Tree dengan DecisionTreeClassifier() dari scikit-learn, lalu melatih model menggunakan data pelatihan."
   ]
  },
  {
   "cell_type": "markdown",
   "id": "91f1fca4-d575-44ac-9390-8f659ecbcf3f",
   "metadata": {},
   "source": [
    "- Memprediksi dengan data uji"
   ]
  },
  {
   "cell_type": "code",
   "execution_count": 39,
   "id": "35347389-8634-4612-a255-3fd1b0eee0fa",
   "metadata": {},
   "outputs": [],
   "source": [
    "y_pred = data_model.predict(x_test_encoded)"
   ]
  },
  {
   "cell_type": "markdown",
   "id": "18a2c710-ebe7-475c-b80f-7bc375cdc211",
   "metadata": {},
   "source": [
    "Perintah diatas digunakan untuk membuat prediksi menggunakan model yang telah dilatih (data_model) pada data pengujian yang telah diubah menjadi format yang sesuai (x_test_encoded)."
   ]
  },
  {
   "cell_type": "markdown",
   "id": "b8efb382-f457-496f-960b-1675211999b9",
   "metadata": {},
   "source": [
    "- Evaluasi model"
   ]
  },
  {
   "cell_type": "code",
   "execution_count": 41,
   "id": "381ed933-45c8-47a1-bdde-334ea76a0d9c",
   "metadata": {},
   "outputs": [
    {
     "name": "stdout",
     "output_type": "stream",
     "text": [
      "Akurasi:  0.66\n"
     ]
    }
   ],
   "source": [
    "accuracy = accuracy_score(y_test, y_pred)\n",
    "print(\"Akurasi: \", accuracy)"
   ]
  },
  {
   "cell_type": "markdown",
   "id": "db9995e4-4751-4fdc-b550-3f9f54f0dddf",
   "metadata": {},
   "source": [
    "digunakan untuk menghitung akurasi prediksi model pada data pengujian. Fungsi accuracy_score() dari pustaka scikit-learn digunakan di sini untuk menghitung akurasi. Parameter pertamanya (y_test) adalah label sebenarnya dari data pengujian, sementara parameter kedua (y_pred) adalah prediksi yang dihasilkan oleh model untuk data pengujian yang sesuai."
   ]
  },
  {
   "cell_type": "code",
   "execution_count": 42,
   "id": "0068ec22-ed93-4731-8464-18c21c23b0c2",
   "metadata": {},
   "outputs": [
    {
     "name": "stdout",
     "output_type": "stream",
     "text": [
      "Cross-Validation Scores: [0.655 0.69  0.68  0.66  0.695]\n"
     ]
    }
   ],
   "source": [
    "scores = cross_val_score(data_model, x_encoded, y, cv=5)\n",
    "print(\"Cross-Validation Scores:\", scores)"
   ]
  },
  {
   "cell_type": "markdown",
   "id": "fcde9c1a-a128-40f8-b49d-284536843de3",
   "metadata": {},
   "source": [
    "menggunakan metode validasi silang (cross-validation) untuk mengevaluasi kinerja model. Metode ini umum digunakan untuk memperkirakan seberapa baik model akan berperforma pada data yang belum pernah dilihat sebelumnya."
   ]
  },
  {
   "cell_type": "markdown",
   "id": "197bf3ad-5aa5-40fd-9e27-6648b36b6e87",
   "metadata": {},
   "source": [
    "Model Decision Tree yang di gunakan mungkin tidak cukup kompleks untuk menangkap pola dalam data dengan baik, atau sebaliknya, mungkin terlalu kompleks dan mengalami overfitting. Overfitting terjadi ketika model terlalu sesuai dengan data pelatihan dan tidak berkinerja baik pada data baru. Data yang di gunakan mungkin memiliki kualitas yang tidak optimal. Ini bisa termasuk adanya noise (data tidak relevan atau acak), data yang tidak lengkap, atau data yang tidak representatif dari keseluruhan populasi yang ingin diprediksi."
   ]
  },
  {
   "cell_type": "code",
   "execution_count": null,
   "id": "3f643232-83ca-4e73-b5cb-152b3a1889c0",
   "metadata": {},
   "outputs": [],
   "source": []
  }
 ],
 "metadata": {
  "kernelspec": {
   "display_name": "Python 3 (ipykernel)",
   "language": "python",
   "name": "python3"
  },
  "language_info": {
   "codemirror_mode": {
    "name": "ipython",
    "version": 3
   },
   "file_extension": ".py",
   "mimetype": "text/x-python",
   "name": "python",
   "nbconvert_exporter": "python",
   "pygments_lexer": "ipython3",
   "version": "3.10.8"
  }
 },
 "nbformat": 4,
 "nbformat_minor": 5
}
